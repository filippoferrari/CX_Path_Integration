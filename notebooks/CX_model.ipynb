{
 "cells": [
  {
   "cell_type": "code",
   "execution_count": 2,
   "metadata": {},
   "outputs": [],
   "source": [
    "%matplotlib inline\n",
    "%reload_ext autoreload\n",
    "%autoreload 2\n",
    "\n",
    "from brian2 import *\n",
    "import matplotlib.pyplot as plt"
   ]
  },
  {
   "cell_type": "code",
   "execution_count": 3,
   "metadata": {},
   "outputs": [],
   "source": [
    "def plot_stuff(M_spikes, MV, Mge, Mgi, name='', observation_list=[0]):\n",
    "    figure(figsize=(5,5))\n",
    "    #plotting spikes of cells on raster plot.\n",
    "    subplot(2,2,1)\n",
    "    title(f'{name} spikes')\n",
    "    plot(M_spikes.t/ms, M_spikes.i, '.k')\n",
    "    \n",
    "    #observation_list = [0,1,2,3,4,5,6,7,8,9,10,11,12,13,14,15]\n",
    "    observation_list = observation_list\n",
    "\n",
    "    #plotting voltage\n",
    "    subplot(2,2,2)\n",
    "    title('V')\n",
    "    for i in observation_list:\n",
    "        plot(MV.t/ms, MV.Vm[i])\n",
    "\n",
    "    subplot(2,2,3)\n",
    "    title('ge')\n",
    "    for i in observation_list:\n",
    "        plot(Mge.t/ms, Mge.ge[i])\n",
    "\n",
    "    subplot(2,2,4)\n",
    "    title('gi')\n",
    "    for i in observation_list:\n",
    "        plot(Mgi.t/ms, Mgi.gi[i])\n",
    "\n",
    "    show()\n",
    "    \n",
    "def visualise_connectivity(S):\n",
    "    Ns = len(S.source)\n",
    "    Nt = len(S.target)\n",
    "    figure(figsize=(14, 4))\n",
    "    \n",
    "    subplot(121)\n",
    "    plot(zeros(Ns), arange(Ns), 'ok', ms=10)\n",
    "    plot(ones(Nt), arange(Nt), 'ok', ms=10)\n",
    "    for i, j in zip(S.i, S.j):\n",
    "        plot([0, 1], [i, j], '-k')\n",
    "    xticks([0, 1], ['Source', 'Target'])\n",
    "    ylabel('Neuron index')\n",
    "    xlim(-0.1, 1.1)\n",
    "    ylim(-1, max(Ns, Nt))\n",
    "    \n",
    "    subplot(122)\n",
    "    plot(S.i, S.j, 'ok')\n",
    "    xlim(-1, Ns)\n",
    "    ylim(-1, Nt)\n",
    "    xlabel('Source neuron index')\n",
    "    ylabel('Target neuron index')\n",
    "    \n",
    "    #subplot(133)\n",
    "    #scatter(S.x_pre/um, S.x_post/um, S.w*20)\n",
    "    #xlabel('Source neuron position (um)')\n",
    "    #ylabel('Target neuron position (um)')\n",
    "    \n",
    "def plot_connectivity_matrix(W_matrix, title=''):\n",
    "    fig = plt.figure()\n",
    "    ax = fig.add_subplot(111)\n",
    "    #ax.imshow(data)\n",
    "    #ax.set_aspect('equal')\n",
    "    s = ax.pcolor(W_matrix, vmin=-1, vmax=1)\n",
    "    ax.set_title(title)\n",
    "    ax.set_aspect('equal')\n",
    "    cax = fig.add_axes([1.02, 0.05, 0.02, 0.9])\n",
    "    #m = matplotlib.cm.ScalarMappable(cmap='viridis')\n",
    "    #fig.colorbar(m, cbax, ticks=[-1, -0.5, 0, 0.5, 1])    \n",
    "    #fig.colorbar(W_matrix)\n",
    "    fig.colorbar(s, ax=ax, cax=cax)\n",
    "    plt.show()"
   ]
  },
  {
   "cell_type": "code",
   "execution_count": 4,
   "metadata": {},
   "outputs": [],
   "source": [
    "# Constants\n",
    "N_TL2 = 16\n",
    "N_CL1 = 16\n",
    "N_TB1 = 8\n",
    "N_TN = 2\n",
    "N_CPU4 = 16\n",
    "N_CPU1A = 14\n",
    "N_CPU1B = 2\n",
    "N_CPU1 = N_CPU1A + N_CPU1B\n",
    "N_PONTINE = 2"
   ]
  },
  {
   "cell_type": "code",
   "execution_count": 5,
   "metadata": {},
   "outputs": [],
   "source": [
    "# Neuron specification\n",
    "eqs = '''\n",
    "      dVm/dt  = ((El - Vm) + Isyn) / taum : volt\n",
    "      Isyn = ge - gi : volt\n",
    "      dge/dt = -ge/taue : volt\n",
    "      dgi/dt = -gi/taui : volt\n",
    "      '''\n",
    "threshold_eqs = 'Vm >= Vt'\n",
    "reset_eqs = 'Vm = Vr'\n",
    "\n",
    "G_TL2 = NeuronGroup(N=N_TL2, model=eqs, threshold=threshold_eqs, reset=reset_eqs, method='euler')\n",
    "G_CL1 = NeuronGroup(N=N_CL1, model=eqs, threshold=threshold_eqs, reset=reset_eqs, method='euler')\n",
    "G_TB1 = NeuronGroup(N=N_TB1, model=eqs, threshold=threshold_eqs, reset=reset_eqs, method='euler')\n",
    "G_TN = NeuronGroup(N=N_TN, model=eqs, threshold=threshold_eqs, reset=reset_eqs, method='euler')\n",
    "G_CPU4 = NeuronGroup(N=N_CPU4, model=eqs, threshold=threshold_eqs, reset=reset_eqs, method='euler')\n",
    "G_CPU1A = NeuronGroup(N=N_CPU1A, model=eqs, threshold=threshold_eqs, reset=reset_eqs, method='euler')\n",
    "G_CPU1B = NeuronGroup(N=N_CPU1B, model=eqs, threshold=threshold_eqs, reset=reset_eqs, method='euler')\n",
    "G_PONTINE = NeuronGroup(N=N_PONTINE, model=eqs, threshold=threshold_eqs, reset=reset_eqs, method='euler')"
   ]
  },
  {
   "cell_type": "code",
   "execution_count": 6,
   "metadata": {},
   "outputs": [],
   "source": [
    "def gen_tb_tb_weights(weight=1.):\n",
    "    \"\"\"\n",
    "    Weight matrix to map inhibitory connections from TB1 to other neurons\n",
    "    \n",
    "    from Thomas Stone's path-integration repo\n",
    "    \"\"\"\n",
    "    W = np.zeros([N_TB1, N_TB1])\n",
    "    sinusoid = -(np.cos(np.linspace(0, 2*np.pi, N_TB1, endpoint=False)) - 1)/2\n",
    "    for i in range(N_TB1):\n",
    "        values = np.roll(sinusoid, i)\n",
    "        W[i, :] = values\n",
    "    return weight * W\n",
    "\n",
    "W_CL1_TB1 = np.tile(np.eye(N_TB1), 2)\n",
    "W_TB1_TB1 = gen_tb_tb_weights()\n",
    "W_TB1_CPU1a = np.tile(np.eye(N_TB1), (2, 1))[1:N_CPU1A+1, :]\n",
    "W_TB1_CPU1b = np.array([[0, 0, 0, 0, 0, 0, 0, 1],\n",
    "                             [1, 0, 0, 0, 0, 0, 0, 0]])\n",
    "W_TB1_CPU4 = np.tile(np.eye(N_TB1), (2, 1))\n",
    "W_TN_CPU4 = np.array([\n",
    "    [1, 1, 1, 1, 1, 1, 1, 1, 0, 0, 0, 0, 0, 0, 0, 0],\n",
    "    [0, 0, 0, 0, 0, 0, 0, 0, 1, 1, 1, 1, 1, 1, 1, 1]\n",
    "]).T\n",
    "W_CPU4_CPU1a = np.array([\n",
    "    [0, 0, 0, 0, 0, 0, 0, 0, 1, 0, 0, 0, 0, 0, 0, 0],\n",
    "    [0, 0, 0, 0, 0, 0, 0, 0, 0, 1, 0, 0, 0, 0, 0, 0],\n",
    "    [0, 0, 0, 0, 0, 0, 0, 0, 0, 0, 1, 0, 0, 0, 0, 0],\n",
    "    [0, 0, 0, 0, 0, 0, 0, 0, 0, 0, 0, 1, 0, 0, 0, 0],\n",
    "    [0, 0, 0, 0, 0, 0, 0, 0, 0, 0, 0, 0, 1, 0, 0, 0],\n",
    "    [0, 0, 0, 0, 0, 0, 0, 0, 0, 0, 0, 0, 0, 1, 0, 0],\n",
    "    [0, 0, 0, 0, 0, 0, 0, 0, 0, 0, 0, 0, 0, 0, 1, 0],\n",
    "    [0, 1, 0, 0, 0, 0, 0, 0, 0, 0, 0, 0, 0, 0, 0, 0],\n",
    "    [0, 0, 1, 0, 0, 0, 0, 0, 0, 0, 0, 0, 0, 0, 0, 0],\n",
    "    [0, 0, 0, 1, 0, 0, 0, 0, 0, 0, 0, 0, 0, 0, 0, 0],\n",
    "    [0, 0, 0, 0, 1, 0, 0, 0, 0, 0, 0, 0, 0, 0, 0, 0],\n",
    "    [0, 0, 0, 0, 0, 1, 0, 0, 0, 0, 0, 0, 0, 0, 0, 0],\n",
    "    [0, 0, 0, 0, 0, 0, 1, 0, 0, 0, 0, 0, 0, 0, 0, 0],\n",
    "    [0, 0, 0, 0, 0, 0, 0, 1, 0, 0, 0, 0, 0, 0, 0, 0],\n",
    "])\n",
    "W_CPU4_CPU1b = np.array([\n",
    "    [1, 0, 0, 0, 0, 0, 0, 0, 0, 0, 0, 0, 0, 0, 0, 0], #8\n",
    "    [0, 0, 0, 0, 0, 0, 0, 0, 0, 0, 0, 0, 0, 0, 0, 1], #9\n",
    "])\n",
    "W_PONTINE_CPU1a = np.array([\n",
    "    [0, 0, 0, 0, 0, 0, 0, 0, 0, 0, 0, 0, 1, 0, 0, 0], #2\n",
    "    [0, 0, 0, 0, 0, 0, 0, 0, 0, 0, 0, 0, 0, 1, 0, 0],\n",
    "    [0, 0, 0, 0, 0, 0, 0, 0, 0, 0, 0, 0, 0, 0, 1, 0],\n",
    "    [0, 0, 0, 0, 0, 0, 0, 0, 0, 0, 0, 0, 0, 0, 0, 1],\n",
    "    [0, 0, 0, 0, 0, 0, 0, 0, 1, 0, 0, 0, 0, 0, 0, 0],\n",
    "    [0, 0, 0, 0, 0, 0, 0, 0, 0, 1, 0, 0, 0, 0, 0, 0],\n",
    "    [0, 0, 0, 0, 0, 0, 0, 0, 0, 0, 1, 0, 0, 0, 0, 0],\n",
    "    [0, 0, 0, 0, 0, 1, 0, 0, 0, 0, 0, 0, 0, 0, 0, 0],\n",
    "    [0, 0, 0, 0, 0, 0, 1, 0, 0, 0, 0, 0, 0, 0, 0, 0],\n",
    "    [0, 0, 0, 0, 0, 0, 0, 1, 0, 0, 0, 0, 0, 0, 0, 0],\n",
    "    [1, 0, 0, 0, 0, 0, 0, 0, 0, 0, 0, 0, 0, 0, 0, 0],\n",
    "    [0, 1, 0, 0, 0, 0, 0, 0, 0, 0, 0, 0, 0, 0, 0, 0],\n",
    "    [0, 0, 1, 0, 0, 0, 0, 0, 0, 0, 0, 0, 0, 0, 0, 0],\n",
    "    [0, 0, 0, 1, 0, 0, 0, 0, 0, 0, 0, 0, 0, 0, 0, 0], #15\n",
    "])\n",
    "W_PONTINE_CPU1b = np.array([\n",
    "    [0, 0, 0, 0, 1, 0, 0, 0, 0, 0, 0, 0, 0, 0, 0, 0], #8\n",
    "    [0, 0, 0, 0, 0, 0, 0, 0, 0, 0, 0, 1, 0, 0, 0, 0], #9\n",
    "])\n",
    "W_CPU4_PONTINE = np.eye(N_CPU4)\n",
    "\n",
    "# Not sure about these\n",
    "W_CPU1a_motor = np.array([\n",
    "    [1, 1, 1, 1, 1, 1, 1, 0, 0, 0, 0, 0, 0, 0],\n",
    "    [0, 0, 0, 0, 0, 0, 0, 1, 1, 1, 1, 1, 1, 1]\n",
    "])\n",
    "W_CPU1b_motor = np.array([[0, 1],\n",
    "                          [1, 0]])"
   ]
  },
  {
   "cell_type": "code",
   "execution_count": 7,
   "metadata": {},
   "outputs": [],
   "source": [
    "_plot = False\n",
    "if _plot:\n",
    "    plot_connectivity_matrix(W_CL1_TB1, title='W_CL1_TB1')\n",
    "    plot_connectivity_matrix(W_TB1_TB1, title='W_TB1_TB1')\n",
    "    plot_connectivity_matrix(W_TB1_CPU1a, title='W_TB1_CPU1a')\n",
    "    plot_connectivity_matrix(W_TB1_CPU1b, title='W_TB1_CPU1b')\n",
    "    plot_connectivity_matrix(W_TB1_CPU4, title='W_TB1_CPU4')\n",
    "    plot_connectivity_matrix(W_TN_CPU4, title='W_TN_CPU4')\n",
    "    plot_connectivity_matrix(W_CPU4_CPU1a, title='W_CPU4_CPU1a')\n",
    "    plot_connectivity_matrix(W_CPU4_CPU1b, title='W_CPU4_CPU1b')\n",
    "    plot_connectivity_matrix(W_CPU1a_motor, title='W_CPU1a_motor')\n",
    "    plot_connectivity_matrix(W_CPU1b_motor, title='W_CPU1b_motor')\n",
    "    plot_connectivity_matrix(W_PONTINE_CPU1a, title='W_PONTINE_CPU1a')\n",
    "    plot_connectivity_matrix(W_PONTINE_CPU1b, title='W_PONTINE_CPU1b')\n",
    "    plot_connectivity_matrix(W_CPU4_PONTINE, title='W_CPU4_PONTINE')"
   ]
  },
  {
   "cell_type": "code",
   "execution_count": 8,
   "metadata": {},
   "outputs": [],
   "source": [
    "def connect_synapses(G_source, G_target, W_matrix, synapses_eqs='w : 1', _plot=False):\n",
    "    # Connectivity matrix has sources on the rows and targets\n",
    "    # on the columns whereas Brian2 expects the opposite\n",
    "    # So you need to transpose it!\n",
    "    sources, targets = W_matrix.T.nonzero()\n",
    "    print(sources, targets)\n",
    "    synapses = Synapses(G_source, G_target, model=synapses_eqs)\n",
    "    synapses.connect(i=sources, j=targets)\n",
    "    synapses.w = W_matrix.T[sources, targets]\n",
    "\n",
    "    if _plot:\n",
    "        visualise_connectivity(synapses)\n",
    "        \n",
    "    return synapses\n",
    "        \n",
    "def reconstruct_weight_matrix(G_source, G_target, synapses):\n",
    "    W = np.full((len(G_source), len(G_target)), 0)\n",
    "    # Insert the values from the Synapses object\n",
    "    W[synapses.i[:], synapses.j[:]] = synapses.w[:]\n",
    "    # Connectivity matrix has sources on the rows and targets\n",
    "    # on the columns whereas Brian2 expects the opposite\n",
    "    # So you need to transpose it!\n",
    "    return W.T"
   ]
  },
  {
   "cell_type": "code",
   "execution_count": 9,
   "metadata": {},
   "outputs": [
    {
     "name": "stdout",
     "output_type": "stream",
     "text": [
      "[ 0  1  2  3  4  5  6  7  8  9 10 11 12 13 14 15] [0 1 2 3 4 5 6 7 0 1 2 3 4 5 6 7]\n"
     ]
    },
    {
     "data": {
      "image/png": "[encoded data removed]",
      "text/plain": [
       "<Figure size 1008x288 with 2 Axes>"
      ]
     },
     "metadata": {
      "needs_background": "light"
     },
     "output_type": "display_data"
    }
   ],
   "source": [
    "synapses = connect_synapses(G_CL1, G_TB1, W_CL1_TB1, _plot=True)"
   ]
  },
  {
   "cell_type": "code",
   "execution_count": 10,
   "metadata": {},
   "outputs": [
    {
     "data": {
      "image/png": "[encoded data removed]",
      "text/plain": [
       "<Figure size 432x288 with 2 Axes>"
      ]
     },
     "metadata": {
      "needs_background": "light"
     },
     "output_type": "display_data"
    }
   ],
   "source": [
    "W_temp = reconstruct_weight_matrix(G_CL1, G_TB1, synapses)\n",
    "plot_connectivity_matrix(W_temp)"
   ]
  },
  {
   "cell_type": "code",
   "execution_count": null,
   "metadata": {},
   "outputs": [],
   "source": []
  },
  {
   "cell_type": "code",
   "execution_count": null,
   "metadata": {},
   "outputs": [],
   "source": []
  },
  {
   "cell_type": "code",
   "execution_count": null,
   "metadata": {},
   "outputs": [],
   "source": []
  }
 ],
 "metadata": {
  "kernelspec": {
   "display_name": "Python 3.7.7 64-bit ('pymsc': venv)",
   "language": "python",
   "name": "python37764bitpymscvenv9ad39fd60fe64042bec4ed64a57553a9"
  },
  "language_info": {
   "codemirror_mode": {
    "name": "ipython",
    "version": 3
   },
   "file_extension": ".py",
   "mimetype": "text/x-python",
   "name": "python",
   "nbconvert_exporter": "python",
   "pygments_lexer": "ipython3",
   "version": "3.8.2"
  }
 },
 "nbformat": 4,
 "nbformat_minor": 4
}
