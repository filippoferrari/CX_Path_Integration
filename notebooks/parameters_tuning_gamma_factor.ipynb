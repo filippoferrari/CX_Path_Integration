{
 "cells": [
  {
   "cell_type": "code",
   "execution_count": 1,
   "metadata": {},
   "outputs": [],
   "source": [
    "%matplotlib inline\n",
    "%reload_ext autoreload\n",
    "%autoreload 2\n",
    "\n",
    "import sys\n",
    "import os"
   ]
  },
  {
   "cell_type": "code",
   "execution_count": 2,
   "metadata": {},
   "outputs": [],
   "source": [
    "from brian2 import *\n",
    "from brian2tools import *\n",
    "\n",
    "import matplotlib.pyplot as plt\n",
    "\n",
    "import cx_rate\n",
    "import trials\n",
    "import plotter\n",
    "\n",
    "from cx_spiking.constants import *\n",
    "\n",
    "import cx_spiking.plotting\n",
    "import cx_spiking.inputs\n",
    "import cx_spiking.network_creation as nc\n",
    "\n",
    "import cx_spiking.optimisation.metric as metric\n",
    "import cx_spiking.optimisation.ng_optimiser as ng_optimiser"
   ]
  },
  {
   "cell_type": "markdown",
   "metadata": {},
   "source": [
    "### Load route and generate spike versions of headings and optic flow"
   ]
  },
  {
   "cell_type": "code",
   "execution_count": 3,
   "metadata": {},
   "outputs": [
    {
     "name": "stdout",
     "output_type": "stream",
     "text": [
      "Load route from data/route.npz\n",
      "data/route.npz exists - not overwriting it\n"
     ]
    }
   ],
   "source": [
    "route_file = 'data/route.npz'\n",
    "T_outbound = 1500\n",
    "\n",
    "h, v, = cx_spiking.inputs.generate_route(T_outbound=1500, vary_speed=True, route_file=route_file, load_route=True)\n",
    "\n",
    "cx_spiking.inputs.save_route(route_file, h, v, save_route=True)\n",
    "\n",
    "# Convert headings\n",
    "headings, digitized = cx_spiking.inputs.compute_headings(h, N=N_TL2//2, vmin=5, vmax=100)\n",
    "headings = np.tile(headings, 2)\n",
    "\n",
    "# Convert velocity into optical flow\n",
    "flow = cx_spiking.inputs.compute_flow(h, v, baseline=50, vmin=0, vmax=50)"
   ]
  },
  {
   "cell_type": "markdown",
   "metadata": {},
   "source": [
    "### Rate based CX"
   ]
  },
  {
   "cell_type": "code",
   "execution_count": 4,
   "metadata": {},
   "outputs": [],
   "source": [
    "noise = 0.1\n",
    "cx = cx_rate.CXRatePontin(noise=noise)\n",
    "\n",
    "h, v, log, cpu4_snapshot = trials.run_trial(logging=True,\n",
    "                                            T_outbound=T_outbound,\n",
    "                                            T_inbound=0,\n",
    "                                            noise=noise,\n",
    "                                            cx=cx,\n",
    "                                            route=(h[:T_outbound], v[:T_outbound]))"
   ]
  },
  {
   "cell_type": "markdown",
   "metadata": {},
   "source": [
    "### Poisson groups"
   ]
  },
  {
   "cell_type": "code",
   "execution_count": 5,
   "metadata": {},
   "outputs": [],
   "source": [
    "start_scope()\n",
    "\n",
    "time_step = 20 # ms"
   ]
  },
  {
   "cell_type": "markdown",
   "metadata": {},
   "source": [
    "This is the spiking input"
   ]
  },
  {
   "cell_type": "code",
   "execution_count": 6,
   "metadata": {},
   "outputs": [],
   "source": [
    "h_stimulus = TimedArray(headings*Hz, dt=1.*time_step*ms)\n",
    "P_HEADING = PoissonGroup(N_TL2, rates='h_stimulus(t,i)')"
   ]
  },
  {
   "cell_type": "markdown",
   "metadata": {},
   "source": [
    "Model neuron group that requires optimisation."
   ]
  },
  {
   "cell_type": "code",
   "execution_count": 7,
   "metadata": {},
   "outputs": [],
   "source": [
    "# Neuron group\n",
    "G_TL2 = nc.generate_neuron_groups(N_TL2, eqs, threshold_eqs, reset_eqs, params, name='TL2')\n",
    "\n",
    "# Add monitors\n",
    "STM_TL2, SPM_TL2 = nc.add_monitors(G_TL2, name='TL2')\n",
    "\n",
    "# Connect heading to TL2\n",
    "S_P_HEADING_TL2 = nc.connect_synapses(P_HEADING, G_TL2, W_HEADING_TL2, model=synapses_model, on_pre=synapses_eqs_ex)"
   ]
  },
  {
   "cell_type": "markdown",
   "metadata": {},
   "source": [
    "This is the **target** for the optimisation."
   ]
  },
  {
   "cell_type": "code",
   "execution_count": 8,
   "metadata": {},
   "outputs": [],
   "source": [
    "TL2_spike_rates = 90 # Hz\n",
    "\n",
    "# Scale spike rates from rate-based CX in the right range\n",
    "# transpose since log is neuron_index*time_step but we want the opposite\n",
    "TL2_stimulus = TimedArray(TL2_spike_rates*log.tl2.T*Hz, dt=1.*time_step*ms)\n",
    "P_TL2 = PoissonGroup(N_TL2, rates='TL2_stimulus(t,i)')\n",
    "SPM_TL2_IDEAL = SpikeMonitor(P_TL2, name='TL2_target')"
   ]
  },
  {
   "cell_type": "markdown",
   "metadata": {},
   "source": [
    "Store network "
   ]
  },
  {
   "cell_type": "code",
   "execution_count": 9,
   "metadata": {},
   "outputs": [],
   "source": [
    "store()"
   ]
  },
  {
   "cell_type": "code",
   "execution_count": 10,
   "metadata": {},
   "outputs": [],
   "source": [
    "def run_simulation(tauE, tauI, wE, wI, G, target_spike_monitor,\n",
    "                   time, dt_, delta, rate_correction): \n",
    "    restore() \n",
    "    \n",
    "    # set the parameters \n",
    "    tauE = tauE * ms\n",
    "    tauI = tauI * ms\n",
    "\n",
    "    wE = wE * nS\n",
    "    wI = wI * nS\n",
    "    \n",
    "    _, model_spike_monitor = nc.add_monitors(G)\n",
    "    \n",
    "    run(time)\n",
    "    \n",
    "    gf = metric.compute_gamma_factor(model_spike_monitor, target_spike_monitor, time, \n",
    "                                     dt_=dt_, delta=delta, rate_correction=rate_correction)\n",
    "\n",
    "    return gf"
   ]
  },
  {
   "cell_type": "code",
   "execution_count": 11,
   "metadata": {},
   "outputs": [],
   "source": [
    "# Values to optimise\n",
    "bounds = [[0,5],     # tauE [ms]\n",
    "          [0,5],     # tauI [ms]\n",
    "          [200,1000], # wE   [nS]\n",
    "          [200,1000]] # wI   [nS]\n",
    "\n",
    "\n",
    "# Other fixed arguments to optimisation function\n",
    "delta = 1*ms\n",
    "rate_correction = True\n",
    "\n",
    "args = [\n",
    "        G_TL2,                   # neuron group to optimise\n",
    "        SPM_TL2_IDEAL,           # target spike monitor\n",
    "        T_outbound*time_step*ms, # simulation time\n",
    "        defaultclock.dt,         # simulation time step\n",
    "        delta,                   # time window for gamma factor\n",
    "        rate_correction          # apply rate correction to gamma factor\n",
    "       ]"
   ]
  },
  {
   "cell_type": "code",
   "execution_count": 12,
   "metadata": {},
   "outputs": [
    {
     "name": "stderr",
     "output_type": "stream",
     "text": [
      "WARNING    /Users/ff/.pyenv/versions/3.8.2/envs/py_msc/lib/python3.8/site-packages/nevergrad/optimization/differentialevolution.py:216: InefficientSettingsWarning: DE algorithms are inefficient with budget < 60\n",
      "  warnings.warn(\"DE algorithms are inefficient with budget < 60\", base.InefficientSettingsWarning)\n",
      " [py.warnings]\n",
      "WARNING:py.warnings:/Users/ff/.pyenv/versions/3.8.2/envs/py_msc/lib/python3.8/site-packages/nevergrad/optimization/differentialevolution.py:216: InefficientSettingsWarning: DE algorithms are inefficient with budget < 60\n",
      "  warnings.warn(\"DE algorithms are inefficient with budget < 60\", base.InefficientSettingsWarning)\n",
      "\n"
     ]
    },
    {
     "name": "stdout",
     "output_type": "stream",
     "text": [
      "[Array((1,), [ArctanBound(a_max=[5], a_min=[0], name=At([0],[5]), shape=(1,))]), Array((1,), [ArctanBound(a_max=[5], a_min=[0], name=At([0],[5]), shape=(1,))]), Array((1,), [ArctanBound(a_max=[1000], a_min=[200], name=At([200],[1000]), shape=(1,))]), Array((1,), [ArctanBound(a_max=[1000], a_min=[200], name=At([200],[1000]), shape=(1,))]), NeuronGroup(clock=Clock(dt=100. * usecond, name='defaultclock'), when=start, order=0, name='TL2'), <SpikeMonitor, recording from TL2_target>, 30. * second, 100. * usecond, 1. * msecond, True]\n"
     ]
    }
   ],
   "source": [
    "# Set instruments\n",
    "instruments = ng_optimiser.set_instrumentation(bounds, args)\n",
    "optim = ng_optimiser.set_optimiser(instruments, method='DE', budget=10)"
   ]
  },
  {
   "cell_type": "code",
   "execution_count": 13,
   "metadata": {},
   "outputs": [
    {
     "name": "stdout",
     "output_type": "stream",
     "text": [
      "Launching 1 jobs with new suggestions\n"
     ]
    },
    {
     "name": "stderr",
     "output_type": "stream",
     "text": [
      "WARNING    \"EL\" is an internal variable of group \"TL2\", but also exists in the run namespace with the value -52. * mvolt. The internal variable will be used. [brian2.groups.group.Group.resolve.resolution_conflict]\n"
     ]
    },
    {
     "name": "stdout",
     "output_type": "stream",
     "text": [
      "Updating fitness with value 3.0213058117583143\n",
      "9 remaining budget and 0 running jobs\n",
      "Current pessimistic best is: Point<x: [-0.2130243  -0.05558866 -1.20891569  0.47500615], mean: 3.0213058117583143, count: 1>\n",
      "Launching 1 jobs with new suggestions\n",
      "Updating fitness with value 2.1451260156064933\n",
      "8 remaining budget and 0 running jobs\n",
      "Current pessimistic best is: Point<x: [-0.15146499 -0.13072596 -2.89135973 -1.59275687], mean: 2.1451260156064933, count: 1>\n",
      "Launching 1 jobs with new suggestions\n",
      "Updating fitness with value 3.212802689516736\n",
      "7 remaining budget and 0 running jobs\n",
      "Current pessimistic best is: Point<x: [-0.15146499 -0.13072596 -2.89135973 -1.59275687], mean: 2.1451260156064933, count: 1>\n",
      "Launching 1 jobs with new suggestions\n",
      "Updating fitness with value 3.927313343490125\n",
      "6 remaining budget and 0 running jobs\n",
      "Current pessimistic best is: Point<x: [-0.15146499 -0.13072596 -2.89135973 -1.59275687], mean: 2.1451260156064933, count: 1>\n",
      "Launching 1 jobs with new suggestions\n",
      "Updating fitness with value 11.737120658926091\n",
      "5 remaining budget and 0 running jobs\n",
      "Current pessimistic best is: Point<x: [-0.15146499 -0.13072596 -2.89135973 -1.59275687], mean: 2.1451260156064933, count: 1>\n",
      "Launching 1 jobs with new suggestions\n",
      "Updating fitness with value 4.873450920173246\n",
      "4 remaining budget and 0 running jobs\n",
      "Current pessimistic best is: Point<x: [-0.15146499 -0.13072596 -2.89135973 -1.59275687], mean: 2.1451260156064933, count: 1>\n",
      "Launching 1 jobs with new suggestions\n",
      "Updating fitness with value 8.037716792407856\n",
      "3 remaining budget and 0 running jobs\n",
      "Current pessimistic best is: Point<x: [-0.15146499 -0.13072596 -2.89135973 -1.59275687], mean: 2.1451260156064933, count: 1>\n",
      "Launching 1 jobs with new suggestions\n",
      "Updating fitness with value 8.961498394681907\n",
      "2 remaining budget and 0 running jobs\n",
      "Current pessimistic best is: Point<x: [-0.15146499 -0.13072596 -2.89135973 -1.59275687], mean: 2.1451260156064933, count: 1>\n",
      "Launching 1 jobs with new suggestions\n",
      "Updating fitness with value 10.044695704146324\n",
      "1 remaining budget and 0 running jobs\n",
      "Current pessimistic best is: Point<x: [-0.15146499 -0.13072596 -2.89135973 -1.59275687], mean: 2.1451260156064933, count: 1>\n",
      "Launching 1 jobs with new suggestions\n",
      "Updating fitness with value 2.269543151050987\n",
      "0 remaining budget and 0 running jobs\n",
      "Current pessimistic best is: Point<x: [-0.15146499 -0.13072596 -2.89135973 -1.59275687], mean: 2.1451260156064933, count: 1>\n"
     ]
    }
   ],
   "source": [
    "optim_min, recommendation = ng_optimiser.run_optimiser(optim, run_simulation, verbosity=2)"
   ]
  },
  {
   "cell_type": "code",
   "execution_count": 15,
   "metadata": {},
   "outputs": [
    {
     "data": {
      "text/plain": [
       "Candidate(args=(2.2607544874580032, 2.293116352177294, 284.7926912211878, 342.76594197909304, NeuronGroup(clock=Clock(dt=100. * usecond, name='defaultclock'), when=start, order=0, name='TL2'), <SpikeMonitor, recording from TL2_target>, 30. * second, 100. * usecond, 1. * msecond, True), kwargs={}, data=[-0.15146499 -0.13072596 -2.89135973 -1.59275687])"
      ]
     },
     "execution_count": 15,
     "metadata": {},
     "output_type": "execute_result"
    }
   ],
   "source": [
    "optim_min.provide_recommendation()"
   ]
  },
  {
   "cell_type": "code",
   "execution_count": null,
   "metadata": {},
   "outputs": [],
   "source": []
  }
 ],
 "metadata": {
  "kernelspec": {
   "display_name": "Python 3",
   "language": "python",
   "name": "python3"
  },
  "language_info": {
   "codemirror_mode": {
    "name": "ipython",
    "version": 3
   },
   "file_extension": ".py",
   "mimetype": "text/x-python",
   "name": "python",
   "nbconvert_exporter": "python",
   "pygments_lexer": "ipython3",
   "version": "3.8.2"
  }
 },
 "nbformat": 4,
 "nbformat_minor": 4
}
