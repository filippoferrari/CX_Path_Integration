{
 "cells": [
  {
   "cell_type": "code",
   "execution_count": 6,
   "metadata": {},
   "outputs": [],
   "source": [
    "%matplotlib inline\n",
    "%reload_ext autoreload\n",
    "%autoreload 2\n",
    "\n",
    "import sys\n",
    "import os\n",
    "#sys.path.append('/Users/ff/dev/MSc/CX_Path_Integration')\n",
    "#os.chdir('/Users/ff/dev/MSc/CX_Path_Integration/notebooks')"
   ]
  },
  {
   "cell_type": "code",
   "execution_count": 183,
   "metadata": {},
   "outputs": [],
   "source": [
    "from brian2 import *\n",
    "from brian2tools import *\n",
    "\n",
    "import matplotlib.pyplot as plt\n",
    "\n",
    "import cx_rate\n",
    "import trials\n",
    "import plotter\n",
    "\n",
    "import cx_spiking.plotting \n",
    "import cx_spiking.inputs\n",
    "import cx_spiking.optimisation.metric as metric"
   ]
  },
  {
   "cell_type": "code",
   "execution_count": 8,
   "metadata": {},
   "outputs": [],
   "source": [
    "# Constants\n",
    "N_TL2 = 16\n",
    "N_CL1 = 16\n",
    "N_TB1 = 8\n",
    "N_TN2 = 2"
   ]
  },
  {
   "cell_type": "code",
   "execution_count": 9,
   "metadata": {},
   "outputs": [
    {
     "name": "stdout",
     "output_type": "stream",
     "text": [
      "Load route from data/route.npz\n",
      "data/route.npz exists - not overwriting it\n"
     ]
    }
   ],
   "source": [
    "route_file = 'data/route.npz'\n",
    "T_outbound = 1500\n",
    "\n",
    "h, v, = cx_spiking.inputs.generate_route(T_outbound=T_outbound, vary_speed=True, route_file=route_file, load_route=True)\n",
    "\n",
    "cx_spiking.inputs.save_route(route_file, h, v, save_route=True)\n",
    "\n",
    "# Convert headings\n",
    "headings, digitized = cx_spiking.inputs.compute_headings(h, N=N_TL2//2, vmin=5, vmax=100)\n",
    "headings = np.tile(headings, 2)\n",
    "\n",
    "# Convert velocity into optical flow\n",
    "flow = cx_spiking.inputs.compute_flow(h, v, baseline=50, vmin=0, vmax=50)"
   ]
  },
  {
   "cell_type": "code",
   "execution_count": 10,
   "metadata": {},
   "outputs": [],
   "source": [
    "noise = 0.1\n",
    "cx = cx_rate.CXRatePontin(noise=noise)\n",
    "\n",
    "h, v, log, cpu4_snapshot = trials.run_trial(logging=True,\n",
    "                                            T_outbound=T_outbound,\n",
    "                                            T_inbound=0,\n",
    "                                            noise=noise,\n",
    "                                            cx=cx,\n",
    "                                            route=(h[:T_outbound], v[:T_outbound]))"
   ]
  },
  {
   "cell_type": "code",
   "execution_count": 13,
   "metadata": {},
   "outputs": [
    {
     "name": "stdout",
     "output_type": "stream",
     "text": [
      "ratio 4500.0 - dt 0.0001\n"
     ]
    }
   ],
   "source": [
    "start_scope()\n",
    "#defaultclock.dt = 0.05*ms\n",
    "\n",
    "time_step = 20 # ms\n",
    "\n",
    "recorded_spike_rates = 90 # Hz\n",
    "ratio = recorded_spike_rates / (time_step * 1./1000)\n",
    "print(f'ratio {ratio} - dt {defaultclock.dt}')"
   ]
  },
  {
   "cell_type": "code",
   "execution_count": 14,
   "metadata": {},
   "outputs": [],
   "source": [
    "# transpose since log is neuron_index*time_step but we want the opposite\n",
    "TL2_stimulus = TimedArray(100*log.tl2.T*Hz, dt=1.*time_step*ms)\n",
    "P_TL2 = PoissonGroup(N_TL2, rates='TL2_stimulus(t,i)')\n",
    "SPM_TL2_IDEAL = SpikeMonitor(P_TL2)\n",
    "\n",
    "P_TL2_2 = PoissonGroup(N_TL2, rates='TL2_stimulus(t,i)')\n",
    "SPM_TL2_2_IDEAL = SpikeMonitor(P_TL2_2)"
   ]
  },
  {
   "cell_type": "code",
   "execution_count": 15,
   "metadata": {},
   "outputs": [
    {
     "name": "stdout",
     "output_type": "stream",
     "text": [
      "CPU times: user 20 s, sys: 542 ms, total: 20.5 s\n",
      "Wall time: 30.6 s\n"
     ]
    }
   ],
   "source": [
    "%%time\n",
    "run(T_outbound*time_step*ms)"
   ]
  },
  {
   "cell_type": "code",
   "execution_count": 201,
   "metadata": {},
   "outputs": [
    {
     "name": "stdout",
     "output_type": "stream",
     "text": [
      "mean gamma factor 2.7755575615628914e-17\n"
     ]
    }
   ],
   "source": [
    "gf = metric.compute_gamma_factor(SPM_TL2_2_IDEAL, SPM_TL2_2_IDEAL, T_outbound*time_step*ms, \n",
    "                                 dt_=defaultclock.dt, delta=1*ms, rate_correction=True)\n",
    "print(f'mean gamma factor {gf}')"
   ]
  },
  {
   "cell_type": "code",
   "execution_count": null,
   "metadata": {},
   "outputs": [],
   "source": []
  }
 ],
 "metadata": {
  "kernelspec": {
   "display_name": "Python 3",
   "language": "python",
   "name": "python3"
  },
  "language_info": {
   "codemirror_mode": {
    "name": "ipython",
    "version": 3
   },
   "file_extension": ".py",
   "mimetype": "text/x-python",
   "name": "python",
   "nbconvert_exporter": "python",
   "pygments_lexer": "ipython3",
   "version": "3.8.2"
  }
 },
 "nbformat": 4,
 "nbformat_minor": 4
}
