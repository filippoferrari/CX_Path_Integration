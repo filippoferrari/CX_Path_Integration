{
 "cells": [
  {
   "cell_type": "code",
   "execution_count": 2,
   "metadata": {},
   "outputs": [],
   "source": [
    "%matplotlib inline\n",
    "%reload_ext autoreload\n",
    "%autoreload 2\n",
    "\n",
    "from brian2 import *\n",
    "import matplotlib.pyplot as plt\n",
    "from scipy.stats import norm\n",
    "\n",
    "import trials\n",
    "import plotter"
   ]
  },
  {
   "cell_type": "code",
   "execution_count": 3,
   "metadata": {},
   "outputs": [],
   "source": [
    "def compute_headings(h, N=8, loc=0, scale=0.8, vmin=5, vmax=100):\n",
    "    rv = norm(loc=loc, scale=scale)\n",
    "    x = np.linspace(rv.ppf(0.01), rv.ppf(0.99), N, endpoint=True)\n",
    "    pdf = rv.pdf(x)\n",
    "\n",
    "    # Split the [-pi,pi] interval into bins\n",
    "    bins = numpy.linspace(-np.pi, np.pi, N+1)\n",
    "\n",
    "    # -1 required since the returned bins are 1-indexed\n",
    "    digitized = numpy.digitize(h, bins) - 1\n",
    "    \n",
    "    headings = np.zeros((len(h), N))\n",
    "\n",
    "    for t in range(T_outbound):\n",
    "        # Shift angle\n",
    "        angle_shift = N//2 + digitized[t]\n",
    "        headings[t,:] = np.roll(pdf, angle_shift)\n",
    "    \n",
    "    # Normalize between 5-100 Hz, the headings represents rate\n",
    "    if vmin > 0 and vmin > 0 and vmax > vmin:\n",
    "        headings = ((headings - headings.min()) * (vmax - vmin)) / (headings.max() - headings.min()) + vmin\n",
    "    \n",
    "    return headings, digitized    \n",
    "\n",
    "    \n",
    "T_outbound = 1500\n",
    "h, v = trials.generate_route(T=T_outbound, vary_speed=True)\n",
    "headings, digitized = compute_headings(h, N=N_TL2//2, vmin=5, vmax=30)\n",
    "headings = np.tile(headings, 2)"
   ]
  },
  {
   "cell_type": "code",
   "execution_count": 6,
   "metadata": {},
   "outputs": [],
   "source": [
    "start_scope()\n",
    "time_step = 10\n",
    "stimulus = TimedArray(headings*Hz, dt=1.*time_step*ms)\n",
    "P = PoissonGroup(16, rates='stimulus(t,i)')\n",
    "spike_monitor = SpikeMonitor(P)"
   ]
  },
  {
   "cell_type": "code",
   "execution_count": 7,
   "metadata": {},
   "outputs": [],
   "source": [
    "run(T_outbound*time_step*ms)"
   ]
  },
  {
   "cell_type": "code",
   "execution_count": 88,
   "metadata": {},
   "outputs": [],
   "source": [
    "start_scope()\n",
    "\n",
    "# Constants\n",
    "N_TL2 = 16\n",
    "\n",
    "# Neuron specification\n",
    "El = -52 * mV # resting potential (mV)\n",
    "Vt = -45 * mV # spike threshold (mV)\n",
    "Vr = El       # reset potential (mV)\n",
    "\n",
    "Cm = 0.002 * ufarad # membrane capacitance (uF)\n",
    "Rm = 10 * Mohm      # membrane resistance (MOhm)\n",
    "taum = Cm * Rm      # = 20ms membrane time constant (ms) \n",
    "\n",
    "#ge = 0 * mV # excitatory synaptic conductance ()\n",
    "#gi = 0 * mV # inhibitory synaptic conductance ()\n",
    "taue = 5 * ms # excitatory synaptic time constant (ms)\n",
    "taui = 10 * ms # inhibitory synaptic time constant (ms)\n",
    "\n",
    "\n",
    "eqs = '''\n",
    "      dVm/dt  = ((El - Vm) + I_syn) / taum : volt\n",
    "      I_syn = ge + gi : volt\n",
    "      dge/dt = -ge/taue : volt\n",
    "      dgi/dt = -gi/taui : volt\n",
    "      '''\n",
    "threshold_eqs = 'Vm >= Vt'\n",
    "reset_eqs = 'Vm = Vr'\n",
    "\n",
    "G_TL2 = NeuronGroup(N=N_TL2, model=eqs, threshold=threshold_eqs, reset=reset_eqs, method='euler')\n",
    "G_TL2.Vm = Vr\n",
    "G_TL2.ge = 0 * mV\n",
    "G_TL2.gi = 0 * mV"
   ]
  },
  {
   "cell_type": "code",
   "execution_count": 89,
   "metadata": {},
   "outputs": [],
   "source": [
    "def add_monitors(NG, variables_to_record=['Vm', 'ge', 'gi']):\n",
    "    state_monitor = StateMonitor(NG, variables_to_record, record=True)\n",
    "    spike_monitor = SpikeMonitor(NG)\n",
    "    return state_monitor, spike_monitor\n",
    "\n",
    "STM_TL2, SPM_TL2 = add_monitors(G_TL2)"
   ]
  },
  {
   "cell_type": "code",
   "execution_count": 90,
   "metadata": {},
   "outputs": [],
   "source": [
    "we = (60 * 0.27 / 10) * mV\n",
    "wi = (20 * 4.5 / 10) * mV\n",
    "\n",
    "synapses_model = '''w : 1'''\n",
    "synapses_eqs_ex = '''ge += we * w'''\n",
    "synapses_eqs_in = '''gi += wi * w'''"
   ]
  },
  {
   "cell_type": "code",
   "execution_count": 91,
   "metadata": {},
   "outputs": [],
   "source": [
    "#stimulus = TimedArray(np.tile([100., 0.], 2)*Hz, dt=100.*ms)\n",
    "stimulus = TimedArray(100*h*Hz, dt=1500.*ms)\n",
    "\n",
    "P = PoissonGroup(N_TL2, rates='stimulus(t)')\n",
    "S = Synapses(P, G_TL2, model=synapses_model, on_pre=synapses_eqs_in)\n",
    "S.connect(j='i')\n",
    "S.w = 1"
   ]
  },
  {
   "cell_type": "code",
   "execution_count": 92,
   "metadata": {},
   "outputs": [],
   "source": [
    "run(1500*ms)"
   ]
  },
  {
   "cell_type": "code",
   "execution_count": 45,
   "metadata": {},
   "outputs": [],
   "source": []
  },
  {
   "cell_type": "code",
   "execution_count": 50,
   "metadata": {},
   "outputs": [],
   "source": []
  },
  {
   "cell_type": "code",
   "execution_count": 51,
   "metadata": {},
   "outputs": [],
   "source": []
  },
  {
   "cell_type": "code",
   "execution_count": 52,
   "metadata": {},
   "outputs": [
    {
     "data": {
      "text/plain": [
       "3944"
      ]
     },
     "execution_count": 52,
     "metadata": {},
     "output_type": "execute_result"
    }
   ],
   "source": [
    "len(spike_monitor.t/ms)"
   ]
  },
  {
   "cell_type": "code",
   "execution_count": 1,
   "metadata": {},
   "outputs": [
    {
     "ename": "NameError",
     "evalue": "name 'figure' is not defined",
     "output_type": "error",
     "traceback": [
      "\u001b[0;31m---------------------------------------------------------------------------\u001b[0m",
      "\u001b[0;31mNameError\u001b[0m                                 Traceback (most recent call last)",
      "\u001b[0;32m<ipython-input-1-6cb3fcc73623>\u001b[0m in \u001b[0;36m<module>\u001b[0;34m\u001b[0m\n\u001b[0;32m----> 1\u001b[0;31m \u001b[0mfigure\u001b[0m\u001b[0;34m(\u001b[0m\u001b[0mfigsize\u001b[0m\u001b[0;34m=\u001b[0m\u001b[0;34m(\u001b[0m\u001b[0;36m10\u001b[0m\u001b[0;34m,\u001b[0m\u001b[0;36m5\u001b[0m\u001b[0;34m)\u001b[0m\u001b[0;34m)\u001b[0m\u001b[0;34m\u001b[0m\u001b[0;34m\u001b[0m\u001b[0m\n\u001b[0m\u001b[1;32m      2\u001b[0m \u001b[0mbins\u001b[0m \u001b[0;34m=\u001b[0m \u001b[0mnumpy\u001b[0m\u001b[0;34m.\u001b[0m\u001b[0mlinspace\u001b[0m\u001b[0;34m(\u001b[0m\u001b[0;34m-\u001b[0m\u001b[0mnp\u001b[0m\u001b[0;34m.\u001b[0m\u001b[0mpi\u001b[0m\u001b[0;34m,\u001b[0m \u001b[0mnp\u001b[0m\u001b[0;34m.\u001b[0m\u001b[0mpi\u001b[0m\u001b[0;34m,\u001b[0m \u001b[0;36m8\u001b[0m\u001b[0;34m+\u001b[0m\u001b[0;36m1\u001b[0m\u001b[0;34m)\u001b[0m\u001b[0;34m\u001b[0m\u001b[0;34m\u001b[0m\u001b[0m\n\u001b[1;32m      3\u001b[0m \u001b[0mplt\u001b[0m\u001b[0;34m.\u001b[0m\u001b[0mplot\u001b[0m\u001b[0;34m(\u001b[0m\u001b[0mh\u001b[0m\u001b[0;34m)\u001b[0m\u001b[0;34m\u001b[0m\u001b[0;34m\u001b[0m\u001b[0m\n\u001b[1;32m      4\u001b[0m \u001b[0;32mfor\u001b[0m \u001b[0mb\u001b[0m \u001b[0;32min\u001b[0m \u001b[0mbins\u001b[0m\u001b[0;34m:\u001b[0m\u001b[0;34m\u001b[0m\u001b[0;34m\u001b[0m\u001b[0m\n\u001b[1;32m      5\u001b[0m     \u001b[0mplt\u001b[0m\u001b[0;34m.\u001b[0m\u001b[0maxhline\u001b[0m\u001b[0;34m(\u001b[0m\u001b[0mb\u001b[0m\u001b[0;34m,\u001b[0m \u001b[0mls\u001b[0m\u001b[0;34m=\u001b[0m\u001b[0;34m'dashed'\u001b[0m\u001b[0;34m,\u001b[0m \u001b[0mcolor\u001b[0m\u001b[0;34m=\u001b[0m\u001b[0;34m'r'\u001b[0m\u001b[0;34m,\u001b[0m \u001b[0malpha\u001b[0m\u001b[0;34m=\u001b[0m\u001b[0;36m0.5\u001b[0m\u001b[0;34m)\u001b[0m\u001b[0;34m\u001b[0m\u001b[0;34m\u001b[0m\u001b[0m\n",
      "\u001b[0;31mNameError\u001b[0m: name 'figure' is not defined"
     ]
    }
   ],
   "source": [
    "figure(figsize=(10,5))\n",
    "bins = numpy.linspace(-np.pi, np.pi, 8+1)\n",
    "plt.plot(h)\n",
    "for b in bins:\n",
    "    plt.axhline(b, ls='dashed', color='r', alpha=0.5)\n",
    "ylabel('angle[-pi, pi]')\n",
    "xlabel('steps')\n",
    "#plt.savefig('path.pdf')\n",
    "plt.show()\n",
    "\n",
    "figure(figsize=(10,5))\n",
    "plot(spike_monitor.t/ms, spike_monitor.i, '.k', markersize=6)\n",
    "plot(np.array(range(0, T_outbound*time_step, time_step)), np.argmax(headings,axis=1),'xr', markersize=3,   alpha=0.2)\n",
    "plot(np.array(range(0, T_outbound*time_step, time_step)), 8+np.argmax(headings,axis=1),'xr', markersize=3,   alpha=0.2)\n",
    "ylabel('neuron index')\n",
    "xlabel('ms')\n",
    "#plt.savefig('spikes.pdf')\n",
    "plt.show()"
   ]
  },
  {
   "cell_type": "code",
   "execution_count": null,
   "metadata": {},
   "outputs": [],
   "source": []
  }
 ],
 "metadata": {
  "kernelspec": {
   "display_name": "Python 3",
   "language": "python",
   "name": "python3"
  },
  "language_info": {
   "codemirror_mode": {
    "name": "ipython",
    "version": 3
   },
   "file_extension": ".py",
   "mimetype": "text/x-python",
   "name": "python",
   "nbconvert_exporter": "python",
   "pygments_lexer": "ipython3",
   "version": "3.8.2"
  }
 },
 "nbformat": 4,
 "nbformat_minor": 4
}
