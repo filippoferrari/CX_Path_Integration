{
 "cells": [
  {
   "cell_type": "code",
   "execution_count": 1,
   "metadata": {},
   "outputs": [],
   "source": [
    "%matplotlib inline\n",
    "%reload_ext autoreload\n",
    "%autoreload 2\n",
    "\n",
    "import sys\n",
    "import os\n",
    "import argparse\n",
    "import math\n",
    "import scipy\n",
    "\n",
    "from brian2 import *\n",
    "from brian2tools import *\n",
    "\n",
    "import matplotlib.pyplot as plt\n",
    "\n",
    "import cx_rate\n",
    "import trials\n",
    "import plotter\n",
    "\n",
    "\n",
    "from cx_spiking.constants import *\n",
    "\n",
    "import cx_spiking.plotting\n",
    "import cx_spiking.inputs\n",
    "import cx_spiking.network_creation as nc\n",
    "\n",
    "import cx_spiking.optimisation.metric as metric\n",
    "import cx_spiking.optimisation.ng_optimiser as ng_optimiser\n",
    "\n",
    "import itertools\n",
    "import multiprocessing"
   ]
  },
  {
   "cell_type": "code",
   "execution_count": 2,
   "metadata": {},
   "outputs": [
    {
     "name": "stdout",
     "output_type": "stream",
     "text": [
      "Load route from /Users/ff/dev/MSc/CX_Path_Integration/notebooks/data/route.npz\n",
      "/Users/ff/dev/MSc/CX_Path_Integration/notebooks/data/route.npz exists - not overwriting it\n"
     ]
    }
   ],
   "source": [
    "######################################\n",
    "### INPUTS\n",
    "######################################\n",
    "route_file = os.path.join(os.environ.get('MSC_PROJECT'), 'notebooks/data/route.npz')\n",
    "T_outbound = 1500\n",
    "\n",
    "h, v, = cx_spiking.inputs.generate_route(T_outbound=1500, vary_speed=True, route_file=route_file, load_route=True)\n",
    "\n",
    "cx_spiking.inputs.save_route(route_file, h, v, save_route=True)\n",
    "\n",
    "# Convert headings\n",
    "headings = cx_spiking.inputs.compute_headings(h, N=N_TL2//2, vmin=5, vmax=100)\n",
    "headings = np.tile(headings, 2)\n",
    "\n",
    "# Convert velocity into optical flow\n",
    "flow = cx_spiking.inputs.compute_flow(h, v, baseline=50, vmin=0, vmax=50)\n"
   ]
  },
  {
   "cell_type": "code",
   "execution_count": 3,
   "metadata": {},
   "outputs": [],
   "source": [
    "######################################\n",
    "### RATE BASED CX\n",
    "######################################\n",
    "noise = 0.1\n",
    "cx = cx_rate.CXRatePontin(noise=noise)\n",
    "\n",
    "h, v, cx_log, cpu4_snapshot = trials.run_trial(logging=True,\n",
    "                                               T_outbound=T_outbound,\n",
    "                                               T_inbound=0,\n",
    "                                               noise=noise,\n",
    "                                               cx=cx,\n",
    "                                               route=(h[:T_outbound], v[:T_outbound]))\n"
   ]
  },
  {
   "cell_type": "code",
   "execution_count": 40,
   "metadata": {},
   "outputs": [],
   "source": [
    "######################################\n",
    "### SPIKE BASED CX\n",
    "######################################\n",
    "start_scope()\n",
    "\n",
    "time_step = 20 # ms\n",
    "\n",
    "h_stimulus = TimedArray(headings*Hz, dt=1.*time_step*ms)\n",
    "P_HEADING = PoissonGroup(N_TL2, rates='h_stimulus(t,i)')\n",
    "\n",
    "f_stimulus = TimedArray(flow*Hz, dt=1.*time_step*ms)\n",
    "P_FLOW = PoissonGroup(N_TN2, rates='f_stimulus(t,i)')\n",
    "\n",
    "#global CPU4_memory_stimulus\n",
    "CPU_MEMORY_starting_value = 50 #Hz\n",
    "CPU4_memory_stimulus = CPU_MEMORY_starting_value*np.ones((T_outbound,N_CPU4)) * Hz\n",
    "P_CPU4_MEMORY = PoissonGroup(N_CPU4, rates=CPU4_memory_stimulus[0,:], name='P_CPU4_MEMORY')"
   ]
  },
  {
   "cell_type": "code",
   "execution_count": 41,
   "metadata": {},
   "outputs": [
    {
     "name": "stdout",
     "output_type": "stream",
     "text": [
      "TL2_neuron_params {'spike_count': [0], 'EL': [-52. * mvolt], 'Vm': [-52. * mvolt], 'EE': [0. * volt], 'EI': [-80. * mvolt], 'gL': [1. * usiemens], 'gE': '(randn() * 1.5 + 4) * 10.*nS', 'gI': '(randn() * 12 + 20) * 10.*nS', 'tauE': [0.5 * msecond], 'tauI': [2. * msecond]}\n",
      "CL1_neuron_params {'spike_count': [0], 'EL': [-52. * mvolt], 'Vm': [-52. * mvolt], 'EE': [0. * volt], 'EI': [-80. * mvolt], 'gL': [1. * usiemens], 'gE': '(randn() * 1.5 + 4) * 10.*nS', 'gI': '(randn() * 12 + 20) * 10.*nS', 'tauE': [1.5 * msecond], 'tauI': [2. * msecond]}\n",
      "TB1_neuron_params {'spike_count': [0], 'EL': [-52. * mvolt], 'Vm': [-52. * mvolt], 'EE': [0. * volt], 'EI': [-80. * mvolt], 'gL': [1. * usiemens], 'gE': '(randn() * 1.5 + 4) * 10.*nS', 'gI': '(randn() * 12 + 20) * 10.*nS', 'tauE': [0.5 * msecond], 'tauI': [1. * msecond]}\n",
      "TN2_neuron_params {'spike_count': [0], 'EL': [-52. * mvolt], 'Vm': [-52. * mvolt], 'EE': [0. * volt], 'EI': [-80. * mvolt], 'gL': [1. * usiemens], 'gE': '(randn() * 1.5 + 4) * 10.*nS', 'gI': '(randn() * 12 + 20) * 10.*nS', 'tauE': [1. * msecond], 'tauI': [2. * msecond]}\n",
      "CPU4_neuron_params {'spike_count': [0], 'EL': [-52. * mvolt], 'Vm': [-52. * mvolt], 'EE': [0. * volt], 'EI': [-80. * mvolt], 'gL': [1. * usiemens], 'gE': '(randn() * 1.5 + 4) * 10.*nS', 'gI': '(randn() * 12 + 20) * 10.*nS', 'tauE': [1.5 * msecond], 'tauI': [1.5 * msecond]}\n"
     ]
    }
   ],
   "source": [
    "# Neuron groups already optimised\n",
    "G_TL2 = nc.generate_neuron_groups(N_TL2, eqs, threshold_eqs, reset_eqs, TL2_neuron_params, name='TL2')\n",
    "G_CL1 = nc.generate_neuron_groups(N_CL1, eqs, threshold_eqs, reset_eqs, CL1_neuron_params, name='CL1')\n",
    "G_TB1 = nc.generate_neuron_groups(N_TB1, eqs, threshold_eqs, reset_eqs, TB1_neuron_params, name='TB1')\n",
    "G_TN2 = nc.generate_neuron_groups(N_TN2, eqs, threshold_eqs, reset_eqs, TN2_neuron_params, name='TN2')\n",
    "G_CPU4 = nc.generate_neuron_groups(N_CPU4, eqs, threshold_eqs, reset_eqs, CPU4_neuron_params, name='CPU4')\n",
    "\n",
    "print(f'TL2_neuron_params {TL2_neuron_params}')\n",
    "print(f'CL1_neuron_params {CL1_neuron_params}')\n",
    "print(f'TB1_neuron_params {TB1_neuron_params}')\n",
    "print(f'TN2_neuron_params {TN2_neuron_params}')\n",
    "print(f'CPU4_neuron_params {CPU4_neuron_params}')"
   ]
  },
  {
   "cell_type": "code",
   "execution_count": 42,
   "metadata": {},
   "outputs": [
    {
     "name": "stdout",
     "output_type": "stream",
     "text": [
      "H_TL2_synapses_params {'wE': [0.9 * usiemens], 'wI': [200. * nsiemens]}\n",
      "F_TN2_synapses_params {'wE': [0.75 * usiemens], 'wI': [200. * nsiemens]}\n",
      "TL2_CL1_synapses_params {'wE': [0.45 * usiemens], 'wI': [200. * nsiemens]}\n",
      "CL1_TB1_synapses_params {'wE': [0.8 * usiemens], 'wI': [200. * nsiemens]}\n",
      "TN2_CPU4_synapses_params {'wE': [0.5 * usiemens], 'wI': [0.6 * usiemens]}\n",
      "TB1_TB1_synapses_params {'wE': [0.7 * usiemens], 'wI': [0.7 * usiemens]}\n",
      "TB1_CPU4_synapses_params {'wE': [0.5 * usiemens], 'wI': [0.6 * usiemens]}\n"
     ]
    }
   ],
   "source": [
    "# Neuron groups to optimise\n",
    "G_CPU1A = nc.generate_neuron_groups(N_CPU1A, eqs, threshold_eqs, reset_eqs, neuron_params, name='CPU1A')\n",
    "G_CPU1B = nc.generate_neuron_groups(N_CPU1B, eqs, threshold_eqs, reset_eqs, neuron_params, name='CPU1B')\n",
    "G_PONTINE = nc.generate_neuron_groups(N_PONTINE, eqs, threshold_eqs, reset_eqs, neuron_params, name='PONTINE')\n",
    "G_MOTOR = nc.generate_neuron_groups(N_MOTOR, eqs, threshold_eqs, reset_eqs, neuron_params, name='MOTOR')\n",
    "\n",
    "\n",
    "# Synapses optimised\n",
    "# Inputs\n",
    "S_P_HEADING_TL2 = nc.connect_synapses(P_HEADING, G_TL2, W_HEADING_TL2, model=synapses_model, params=H_TL2_synapses_params, on_pre=synapses_eqs_ex, name='S_P_HEADING_TL2')\n",
    "S_P_FLOW_TN2 = nc.connect_synapses(P_FLOW, G_TN2, W_FLOW_TN2, model=synapses_model, params=F_TN2_synapses_params, on_pre=synapses_eqs_ex, name='S_P_FLOW_TN2')\n",
    "\n",
    "# TL2\n",
    "S_TL2_CL1 = nc.connect_synapses(G_TL2, G_CL1, W_TL2_CL1, model=synapses_model, params=TL2_CL1_synapses_params, on_pre=synapses_eqs_ex, name='S_TL2_CL1')\n",
    "\n",
    "# CL1\n",
    "S_CL1_TB1 = nc.connect_synapses(G_CL1, G_TB1, W_CL1_TB1, model=synapses_model, params=CL1_TB1_synapses_params, on_pre=synapses_eqs_ex, name='S_CL1_TB1')\n",
    "\n",
    "# TN2\n",
    "S_TN2_CPU4 = nc.connect_synapses(G_TN2, G_CPU4, W_TN2_CPU4, model=synapses_model, params=TN2_CPU4_synapses_params, on_pre=synapses_eqs_ex, name='S_TN2_CPU4')\n",
    "\n",
    "# TB1\n",
    "S_TB1_TB1 = nc.connect_synapses(G_TB1, G_TB1, W_TB1_TB1, model=synapses_model, params=TB1_TB1_synapses_params, on_pre=synapses_eqs_in, name='S_TB1_TB1')\n",
    "S_TB1_CPU4 = nc.connect_synapses(G_TB1, G_CPU4, W_TB1_CPU4, model=synapses_model, params=TB1_CPU4_synapses_params, on_pre=synapses_eqs_in, name='S_TB1_CPU4')\n",
    "\n",
    "\n",
    "\n",
    "print(f'H_TL2_synapses_params {H_TL2_synapses_params}')\n",
    "print(f'F_TN2_synapses_params {F_TN2_synapses_params}')\n",
    "print(f'TL2_CL1_synapses_params {TL2_CL1_synapses_params}')\n",
    "print(f'CL1_TB1_synapses_params {CL1_TB1_synapses_params}')\n",
    "print(f'TN2_CPU4_synapses_params {TN2_CPU4_synapses_params}')\n",
    "print(f'TB1_TB1_synapses_params {TB1_TB1_synapses_params}')\n",
    "print(f'TB1_CPU4_synapses_params {TB1_CPU4_synapses_params}')"
   ]
  },
  {
   "cell_type": "code",
   "execution_count": 43,
   "metadata": {},
   "outputs": [],
   "source": [
    "# Synapses to optimise\n",
    "# TB1\n",
    "S_TB1_CPU1A = nc.connect_synapses(G_TB1, G_CPU1A, W_TB1_CPU1A, model=synapses_model, params=synapses_params, on_pre=synapses_eqs_in, name='S_TB1_CPU1A')\n",
    "S_TB1_CPU1B = nc.connect_synapses(G_TB1, G_CPU1B, W_TB1_CPU1B, model=synapses_model, params=synapses_params,  on_pre=synapses_eqs_in, name='S_TB1_CPU1B')\n",
    "\n",
    "# CPU4 accumulator\n",
    "S_CPU4_M_PONTINE = nc.connect_synapses(P_CPU4_MEMORY, G_PONTINE, W_CPU4_PONTINE, model=synapses_model, params=synapses_params, on_pre=synapses_eqs_ex, name='S_CPU4_M_PONTINE')\n",
    "S_CPU4_M_CPU1A = nc.connect_synapses(P_CPU4_MEMORY, G_CPU1A, W_CPU4_CPU1A, model=synapses_model, params=synapses_params, on_pre=synapses_eqs_ex, name='S_CPU4_M_CPU1A')\n",
    "S_CPU4_M_CPU1B = nc.connect_synapses(P_CPU4_MEMORY, G_CPU1B, W_CPU4_CPU1B, model=synapses_model, params=synapses_params, on_pre=synapses_eqs_ex, name='S_CPU4_M_CPU1B')\n",
    "\n",
    "# Pontine\n",
    "S_PONTINE_CPU1A = nc.connect_synapses(G_PONTINE, G_CPU1A, W_PONTINE_CPU1A, model=synapses_model, params=synapses_params, on_pre=synapses_eqs_in, name='S_PONTINE_CPU1A')\n",
    "S_PONTINE_CPU1B = nc.connect_synapses(G_PONTINE, G_CPU1B, W_PONTINE_CPU1B, model=synapses_model, params=synapses_params, on_pre=synapses_eqs_in, name='S_PONTINE_CPU1B')\n",
    "\n",
    "# CPU1A\n",
    "S_CPU1A_MOTOR = nc.connect_synapses(G_CPU1A, G_MOTOR, W_CPU1A_MOTOR, model=synapses_model, params=synapses_params, on_pre=synapses_eqs_ex, name='S_CPU1A_MOTOR')\n",
    "\n",
    "# CPU1B\n",
    "S_CPU1B_MOTOR = nc.connect_synapses(G_CPU1B, G_MOTOR, W_CPU1B_MOTOR, model=synapses_model, params=synapses_params, on_pre=synapses_eqs_ex, name='S_CPU1B_MOTOR')"
   ]
  },
  {
   "cell_type": "code",
   "execution_count": 44,
   "metadata": {},
   "outputs": [],
   "source": [
    "motors = cx_spiking.inputs.compute_motors(cx_log.cpu1)\n",
    "MOTOR_stimulus = TimedArray(50*motors.T*Hz, dt=1.*time_step*ms)\n",
    "P_MOTOR = PoissonGroup(N_MOTOR, rates='MOTOR_stimulus(t,i)')\n",
    "SPM_MOTOR_TARGET = SpikeMonitor(P_MOTOR)\n",
    "SPM_MOTOR = SpikeMonitor(G_MOTOR)"
   ]
  },
  {
   "cell_type": "code",
   "execution_count": 45,
   "metadata": {},
   "outputs": [],
   "source": [
    "global CPU4_memory, CPU4_memory_history, CPU4_memory_stimulus\n",
    "CPU4_memory_history = CPU_MEMORY_starting_value * np.ones((T_outbound, N_CPU4))\n",
    "CPU4_memory = CPU_MEMORY_starting_value * np.ones(N_CPU4)\n",
    "\n",
    "\n",
    "def get_agent_timestep(t, sim_time_step):\n",
    "    return int((t/ms + 0.5) / sim_time_step)\n",
    "\n",
    "\n",
    "def extract_spike_counts(SPM, t, time_step):\n",
    "    '''\n",
    "    Count spikes for each neuron in the [t-time_step, t] interval\n",
    "    of the simulation\n",
    "    '''\n",
    "    spike_trains = SPM.spike_trains()\n",
    "    neurons = np.zeros(len(SPM.spike_trains()), dtype=int)\n",
    "    for idx in range(len(spike_trains)):\n",
    "        spike_train = spike_trains[idx]\n",
    "        neurons[idx] = len(spike_train[(spike_train > t-time_step*ms) & (spike_train < t)])\n",
    "    return neurons\n",
    "\n",
    "\n",
    "@network_operation(dt=time_step*ms, when='start', order=2, name='CPU4_accumulator')\n",
    "def CPU4_accumulator(t):\n",
    "    global CPU4_memory, CPU4_memory_history, CPU4_memory_stimulus\n",
    "    \n",
    "    timestep = get_agent_timestep(t, time_step)\n",
    "    \n",
    "    if t < time_step*ms:\n",
    "        return\n",
    "\n",
    "    #print(timestep, CPU4_memory)#, CPU4_memory_history[timestep,:], CPU4_memory_stimulus[timestep,:])\n",
    "    neurons_responses = G_CPU4.spike_count\n",
    "\n",
    "    mem_update = neurons_responses \n",
    "    CPU4_memory = CPU4_memory_history[timestep-1,:]\n",
    "    CPU4_memory += mem_update * 0.05\n",
    "    CPU4_memory -= 0.025 * (1./(mem_update+0.1))\n",
    "    CPU4_memory = np.clip(CPU4_memory, 0, np.inf)\n",
    "    #print(CPU4_memory_history[timestep,:])\n",
    "    CPU4_memory_history[timestep,:] = CPU4_memory\n",
    "    #print(CPU4_memory_history[timestep,:])\n",
    "\n",
    "    CPU4_memory_stimulus[timestep,:] = CPU4_memory * Hz\n",
    "    \n",
    "    G_CPU4.spike_count = 0\n",
    "\n",
    "\n",
    "@network_operation(dt=time_step*ms, when='start', order=4, name='set_rates')\n",
    "def set_rates(t):\n",
    "    global CPU4_memory_stimulus\n",
    "    timestep = get_agent_timestep(t, time_step)\n",
    "\n",
    "    if t < time_step*ms:\n",
    "        return\n",
    "    P_CPU4_MEMORY.rates = CPU4_memory_stimulus[timestep,:]"
   ]
  },
  {
   "cell_type": "code",
   "execution_count": 46,
   "metadata": {},
   "outputs": [],
   "source": [
    "net = Network(collect())\n",
    "\n",
    "net.store('initialised')"
   ]
  },
  {
   "cell_type": "code",
   "execution_count": 47,
   "metadata": {},
   "outputs": [],
   "source": [
    "#net.restore('initialised')\n",
    "#net.run(100*20*ms, report='text')"
   ]
  },
  {
   "cell_type": "code",
   "execution_count": 48,
   "metadata": {},
   "outputs": [],
   "source": [
    "def run_simulation_NET(net, cx_log, tauE_, wE_, tauI_, wI_, \n",
    "                           Group, Target,\n",
    "                           G_CPU1A, G_CPU1B, G_PONTINE, G_MOTOR,\n",
    "                           S_TB1_CPU1A,                  \n",
    "                           S_CPU4_M_PONTINE,\n",
    "                           S_CPU4_M_CPU1A,\n",
    "                           S_PONTINE_CPU1A, \n",
    "                           S_TB1_CPU1B,\n",
    "                           S_CPU4_M_CPU1B, \n",
    "                           S_PONTINE_CPU1B, \n",
    "                           S_CPU1A_MOTOR, \n",
    "                           S_CPU1B_MOTOR,  \n",
    "                           time, dt_, delta, rate_correction): \n",
    "\n",
    "    net.restore('initialised') \n",
    "    global CPU4_memory, CPU4_memory_history, CPU4_memory_stimulus\n",
    "\n",
    "\n",
    "    # set the parameters \n",
    "    Group.set_states({'tauE' : tauE_*ms, 'tauI' : tauI_*ms})\n",
    "    print(f'taueE: {tauE_} - tauI {tauI_}')\n",
    "    G_CPU1A.set_states({'tauE' : tauE_*ms, 'tauI' : tauI_*ms})\n",
    "    G_CPU1B.set_states({'tauE' : tauE_*ms, 'tauI' : tauI_*ms})\n",
    "    G_PONTINE.set_states({'tauE' : tauE_*ms, 'tauI' : tauI_*ms})\n",
    "    #G_MOTOR.set_states({'tauE' : tauE_*ms, 'tauI' : tauI_*ms})\n",
    "\n",
    "    S_TB1_CPU1A.set_states({'wE' : wE_*nS, 'wI' : wI_*nS})\n",
    "    S_TB1_CPU1B.set_states({'wE' : wE_*nS, 'wI' : wI_*nS})\n",
    "    S_CPU4_M_PONTINE.set_states({'wE' : wE_*nS, 'wI' : wI_*nS})\n",
    "    S_CPU4_M_CPU1A.set_states({'wE' : wE_*nS, 'wI' : wI_*nS})\n",
    "    S_CPU4_M_CPU1B.set_states({'wE' : wE_*nS, 'wI' : wI_*nS})\n",
    "    S_PONTINE_CPU1A.set_states({'wE' : wE_*nS, 'wI' : wI_*nS})\n",
    "    S_PONTINE_CPU1B.set_states({'wE' : wE_*nS, 'wI' : wI_*nS})\n",
    "    S_CPU1A_MOTOR.set_states({'wE' : wE_*nS, 'wI' : wI_*nS})\n",
    "    S_CPU1B_MOTOR.set_states({'wE' : wE_*nS, 'wI' : wI_*nS})\n",
    "\n",
    "    print(f'wE: {wE_} - wI {wI_}')\n",
    "\n",
    "    model_spike_monitor_motor = SpikeMonitor(Group, name='MOTOR_source_spike_monitor')\n",
    "    target_spike_monitor_motor = SpikeMonitor(Target, name='MOTOR_target_spike_monitor')\n",
    "    \n",
    "    net.add(model_spike_monitor_motor, target_spike_monitor_motor)\n",
    "    net.run(time, report='text')\n",
    "    \n",
    "    if np.sum(model_spike_monitor_motor.count) == 0 or np.sum(target_spike_monitor_motor.count) == 0:\n",
    "        print('model count = ', model_spike_monitor_motor.count)\n",
    "        print('target count = ', target_spike_monitor_motor.count)\n",
    "        gf_motor = 10000\n",
    "    else:\n",
    "        gf_motor = metric.compute_gamma_factor(model_spike_monitor_motor, target_spike_monitor_motor, time, \n",
    "                                        dt_=dt_, delta=delta, rate_correction=rate_correction)\n",
    "\n",
    "    motors_rate_model = cx_spiking.inputs.compute_motors(cx_log.cpu1)\n",
    "    rotations_rate_model = np.sign(motors_rate_model[0,:1500]-motors_rate_model[1,:1500])\n",
    "\n",
    "    MOTOR_spikes =  cx_spiking.inputs.get_spikes_rates(target_spike_monitor_motor, 2, 1500, 20)\n",
    "    rotations_spike_model = np.sign((MOTOR_spikes[0,:1500]-MOTOR_spikes[1,:1500]))\n",
    "    \n",
    "    measure = np.sum(np.abs(rotations_rate_model-rotations_spike_model))\n",
    "\n",
    "    net.remove(model_spike_monitor_motor, target_spike_monitor_motor)\n",
    "    print(f'Gamma factor: {gf_motor} - {measure}')\n",
    "\n",
    "    gf = gf_motor\n",
    "    return gf"
   ]
  },
  {
   "cell_type": "code",
   "execution_count": 49,
   "metadata": {},
   "outputs": [
    {
     "name": "stdout",
     "output_type": "stream",
     "text": [
      "taueE: 2 - tauI 3\n",
      "wE: 700 - wI 700\n",
      "Starting simulation at t=0. s for a duration of 1. s\n",
      "1. s (100%) simulated in 4s\n",
      "Gamma factor: 45.18897591125196 - 1493.0\n",
      "taueE: 2 - tauI 3\n",
      "wE: 700 - wI 700\n",
      "Starting simulation at t=0. s for a duration of 1. s\n",
      "1. s (100%) simulated in 3s\n",
      "Gamma factor: 46.87672783363058 - 1491.0\n",
      "taueE: 2 - tauI 3\n",
      "wE: 700 - wI 700\n",
      "Starting simulation at t=0. s for a duration of 1. s\n",
      "1. s (100%) simulated in 4s\n",
      "Gamma factor: 48.746977348151816 - 1489.0\n",
      "taueE: 2 - tauI 3\n",
      "wE: 700 - wI 700\n",
      "Starting simulation at t=0. s for a duration of 1. s\n",
      "1. s (100%) simulated in 4s\n",
      "Gamma factor: 37.489762736321225 - 1496.0\n",
      "taueE: 2 - tauI 3\n",
      "wE: 700 - wI 700\n",
      "Starting simulation at t=0. s for a duration of 1. s\n",
      "1. s (100%) simulated in 5s\n",
      "Gamma factor: 40.46742292610592 - 1499.0\n",
      "taueE: 2 - tauI 3\n",
      "wE: 700 - wI 700\n",
      "Starting simulation at t=0. s for a duration of 1. s\n",
      "1. s (100%) simulated in 4s\n",
      "Gamma factor: 38.78543261872869 - 1497.0\n",
      "taueE: 2 - tauI 3\n",
      "wE: 700 - wI 700\n",
      "Starting simulation at t=0. s for a duration of 1. s\n"
     ]
    },
    {
     "ename": "KeyboardInterrupt",
     "evalue": "",
     "output_type": "error",
     "traceback": [
      "\u001b[0;31m---------------------------------------------------------------------------\u001b[0m",
      "\u001b[0;31mKeyboardInterrupt\u001b[0m                         Traceback (most recent call last)",
      "\u001b[0;32m<ipython-input-49-58dcbc373e4a>\u001b[0m in \u001b[0;36m<module>\u001b[0;34m\u001b[0m\n\u001b[1;32m     29\u001b[0m                                                                           \u001b[0mS_CPU1B_MOTOR\u001b[0m\u001b[0;34m,\u001b[0m\u001b[0;34m\u001b[0m\u001b[0;34m\u001b[0m\u001b[0m\n\u001b[1;32m     30\u001b[0m                                                                           \u001b[0mT_outbound\u001b[0m\u001b[0;34m*\u001b[0m\u001b[0mtime_step\u001b[0m\u001b[0;34m*\u001b[0m\u001b[0mms\u001b[0m\u001b[0;34m,\u001b[0m\u001b[0;34m\u001b[0m\u001b[0;34m\u001b[0m\u001b[0m\n\u001b[0;32m---> 31\u001b[0;31m                                                                           defaultclock.dt, delta, rate_correction)\n\u001b[0m",
      "\u001b[0;32m<ipython-input-48-1a2bc05358c7>\u001b[0m in \u001b[0;36mrun_simulation_NET\u001b[0;34m(net, cx_log, tauE_, wE_, tauI_, wI_, Group, Target, G_CPU1A, G_CPU1B, G_PONTINE, G_MOTOR, S_TB1_CPU1A, S_CPU4_M_PONTINE, S_CPU4_M_CPU1A, S_PONTINE_CPU1A, S_TB1_CPU1B, S_CPU4_M_CPU1B, S_PONTINE_CPU1B, S_CPU1A_MOTOR, S_CPU1B_MOTOR, time, dt_, delta, rate_correction)\u001b[0m\n\u001b[1;32m     41\u001b[0m \u001b[0;34m\u001b[0m\u001b[0m\n\u001b[1;32m     42\u001b[0m     \u001b[0mnet\u001b[0m\u001b[0;34m.\u001b[0m\u001b[0madd\u001b[0m\u001b[0;34m(\u001b[0m\u001b[0mmodel_spike_monitor_motor\u001b[0m\u001b[0;34m,\u001b[0m \u001b[0mtarget_spike_monitor_motor\u001b[0m\u001b[0;34m)\u001b[0m\u001b[0;34m\u001b[0m\u001b[0;34m\u001b[0m\u001b[0m\n\u001b[0;32m---> 43\u001b[0;31m     \u001b[0mnet\u001b[0m\u001b[0;34m.\u001b[0m\u001b[0mrun\u001b[0m\u001b[0;34m(\u001b[0m\u001b[0;36m50\u001b[0m\u001b[0;34m*\u001b[0m\u001b[0;36m20\u001b[0m\u001b[0;34m*\u001b[0m\u001b[0mms\u001b[0m\u001b[0;34m,\u001b[0m \u001b[0mreport\u001b[0m\u001b[0;34m=\u001b[0m\u001b[0;34m'text'\u001b[0m\u001b[0;34m)\u001b[0m\u001b[0;34m\u001b[0m\u001b[0;34m\u001b[0m\u001b[0m\n\u001b[0m\u001b[1;32m     44\u001b[0m \u001b[0;34m\u001b[0m\u001b[0m\n\u001b[1;32m     45\u001b[0m     \u001b[0;32mif\u001b[0m \u001b[0mnp\u001b[0m\u001b[0;34m.\u001b[0m\u001b[0msum\u001b[0m\u001b[0;34m(\u001b[0m\u001b[0mmodel_spike_monitor_motor\u001b[0m\u001b[0;34m.\u001b[0m\u001b[0mcount\u001b[0m\u001b[0;34m)\u001b[0m \u001b[0;34m==\u001b[0m \u001b[0;36m0\u001b[0m \u001b[0;32mor\u001b[0m \u001b[0mnp\u001b[0m\u001b[0;34m.\u001b[0m\u001b[0msum\u001b[0m\u001b[0;34m(\u001b[0m\u001b[0mtarget_spike_monitor_motor\u001b[0m\u001b[0;34m.\u001b[0m\u001b[0mcount\u001b[0m\u001b[0;34m)\u001b[0m \u001b[0;34m==\u001b[0m \u001b[0;36m0\u001b[0m\u001b[0;34m:\u001b[0m\u001b[0;34m\u001b[0m\u001b[0;34m\u001b[0m\u001b[0m\n",
      "\u001b[0;32m~/.pyenv/versions/3.7.8/envs/py37/lib/python3.7/site-packages/brian2/core/base.py\u001b[0m in \u001b[0;36mdevice_override_decorated_function\u001b[0;34m(*args, **kwds)\u001b[0m\n\u001b[1;32m    278\u001b[0m                 \u001b[0;32mreturn\u001b[0m \u001b[0mgetattr\u001b[0m\u001b[0;34m(\u001b[0m\u001b[0mcurdev\u001b[0m\u001b[0;34m,\u001b[0m \u001b[0mname\u001b[0m\u001b[0;34m)\u001b[0m\u001b[0;34m(\u001b[0m\u001b[0;34m*\u001b[0m\u001b[0margs\u001b[0m\u001b[0;34m,\u001b[0m \u001b[0;34m**\u001b[0m\u001b[0mkwds\u001b[0m\u001b[0;34m)\u001b[0m\u001b[0;34m\u001b[0m\u001b[0;34m\u001b[0m\u001b[0m\n\u001b[1;32m    279\u001b[0m             \u001b[0;32melse\u001b[0m\u001b[0;34m:\u001b[0m\u001b[0;34m\u001b[0m\u001b[0;34m\u001b[0m\u001b[0m\n\u001b[0;32m--> 280\u001b[0;31m                 \u001b[0;32mreturn\u001b[0m \u001b[0mfunc\u001b[0m\u001b[0;34m(\u001b[0m\u001b[0;34m*\u001b[0m\u001b[0margs\u001b[0m\u001b[0;34m,\u001b[0m \u001b[0;34m**\u001b[0m\u001b[0mkwds\u001b[0m\u001b[0;34m)\u001b[0m\u001b[0;34m\u001b[0m\u001b[0;34m\u001b[0m\u001b[0m\n\u001b[0m\u001b[1;32m    281\u001b[0m \u001b[0;34m\u001b[0m\u001b[0m\n\u001b[1;32m    282\u001b[0m         \u001b[0mdevice_override_decorated_function\u001b[0m\u001b[0;34m.\u001b[0m\u001b[0m__doc__\u001b[0m \u001b[0;34m=\u001b[0m \u001b[0mfunc\u001b[0m\u001b[0;34m.\u001b[0m\u001b[0m__doc__\u001b[0m\u001b[0;34m\u001b[0m\u001b[0;34m\u001b[0m\u001b[0m\n",
      "\u001b[0;32m~/.pyenv/versions/3.7.8/envs/py37/lib/python3.7/site-packages/brian2/units/fundamentalunits.py\u001b[0m in \u001b[0;36mnew_f\u001b[0;34m(*args, **kwds)\u001b[0m\n\u001b[1;32m   2390\u001b[0m                                                      get_dimensions(newkeyset[k]))\n\u001b[1;32m   2391\u001b[0m \u001b[0;34m\u001b[0m\u001b[0m\n\u001b[0;32m-> 2392\u001b[0;31m             \u001b[0mresult\u001b[0m \u001b[0;34m=\u001b[0m \u001b[0mf\u001b[0m\u001b[0;34m(\u001b[0m\u001b[0;34m*\u001b[0m\u001b[0margs\u001b[0m\u001b[0;34m,\u001b[0m \u001b[0;34m**\u001b[0m\u001b[0mkwds\u001b[0m\u001b[0;34m)\u001b[0m\u001b[0;34m\u001b[0m\u001b[0;34m\u001b[0m\u001b[0m\n\u001b[0m\u001b[1;32m   2393\u001b[0m             \u001b[0;32mif\u001b[0m \u001b[0;34m'result'\u001b[0m \u001b[0;32min\u001b[0m \u001b[0mau\u001b[0m\u001b[0;34m:\u001b[0m\u001b[0;34m\u001b[0m\u001b[0;34m\u001b[0m\u001b[0m\n\u001b[1;32m   2394\u001b[0m                 \u001b[0;32mif\u001b[0m \u001b[0mau\u001b[0m\u001b[0;34m[\u001b[0m\u001b[0;34m'result'\u001b[0m\u001b[0;34m]\u001b[0m \u001b[0;34m==\u001b[0m \u001b[0mbool\u001b[0m\u001b[0;34m:\u001b[0m\u001b[0;34m\u001b[0m\u001b[0;34m\u001b[0m\u001b[0m\n",
      "\u001b[0;32m~/.pyenv/versions/3.7.8/envs/py37/lib/python3.7/site-packages/brian2/core/network.py\u001b[0m in \u001b[0;36mrun\u001b[0;34m(self, duration, report, report_period, namespace, profile, level)\u001b[0m\n\u001b[1;32m   1092\u001b[0m                     \u001b[0;32mfor\u001b[0m \u001b[0mobj\u001b[0m \u001b[0;32min\u001b[0m \u001b[0mactive_objects\u001b[0m\u001b[0;34m:\u001b[0m\u001b[0;34m\u001b[0m\u001b[0;34m\u001b[0m\u001b[0m\n\u001b[1;32m   1093\u001b[0m                         \u001b[0;32mif\u001b[0m \u001b[0mobj\u001b[0m\u001b[0;34m.\u001b[0m\u001b[0m_clock\u001b[0m \u001b[0;32min\u001b[0m \u001b[0mcurclocks\u001b[0m\u001b[0;34m:\u001b[0m\u001b[0;34m\u001b[0m\u001b[0;34m\u001b[0m\u001b[0m\n\u001b[0;32m-> 1094\u001b[0;31m                             \u001b[0mobj\u001b[0m\u001b[0;34m.\u001b[0m\u001b[0mrun\u001b[0m\u001b[0;34m(\u001b[0m\u001b[0;34m)\u001b[0m\u001b[0;34m\u001b[0m\u001b[0;34m\u001b[0m\u001b[0m\n\u001b[0m\u001b[1;32m   1095\u001b[0m \u001b[0;34m\u001b[0m\u001b[0m\n\u001b[1;32m   1096\u001b[0m                 \u001b[0;32mfor\u001b[0m \u001b[0mc\u001b[0m \u001b[0;32min\u001b[0m \u001b[0mcurclocks\u001b[0m\u001b[0;34m:\u001b[0m\u001b[0;34m\u001b[0m\u001b[0;34m\u001b[0m\u001b[0m\n",
      "\u001b[0;32m~/.pyenv/versions/3.7.8/envs/py37/lib/python3.7/site-packages/brian2/core/base.py\u001b[0m in \u001b[0;36mrun\u001b[0;34m(self)\u001b[0m\n\u001b[1;32m    181\u001b[0m     \u001b[0;32mdef\u001b[0m \u001b[0mrun\u001b[0m\u001b[0;34m(\u001b[0m\u001b[0mself\u001b[0m\u001b[0;34m)\u001b[0m\u001b[0;34m:\u001b[0m\u001b[0;34m\u001b[0m\u001b[0;34m\u001b[0m\u001b[0m\n\u001b[1;32m    182\u001b[0m         \u001b[0;32mfor\u001b[0m \u001b[0mcodeobj\u001b[0m \u001b[0;32min\u001b[0m \u001b[0mself\u001b[0m\u001b[0;34m.\u001b[0m\u001b[0m_code_objects\u001b[0m\u001b[0;34m:\u001b[0m\u001b[0;34m\u001b[0m\u001b[0;34m\u001b[0m\u001b[0m\n\u001b[0;32m--> 183\u001b[0;31m             \u001b[0mcodeobj\u001b[0m\u001b[0;34m(\u001b[0m\u001b[0;34m)\u001b[0m\u001b[0;34m\u001b[0m\u001b[0;34m\u001b[0m\u001b[0m\n\u001b[0m\u001b[1;32m    184\u001b[0m \u001b[0;34m\u001b[0m\u001b[0m\n\u001b[1;32m    185\u001b[0m     contained_objects = property(fget=lambda self:self._contained_objects,\n",
      "\u001b[0;32m~/.pyenv/versions/3.7.8/envs/py37/lib/python3.7/site-packages/brian2/codegen/codeobject.py\u001b[0m in \u001b[0;36m__call__\u001b[0;34m(self, **kwds)\u001b[0m\n\u001b[1;32m    100\u001b[0m         \u001b[0mself\u001b[0m\u001b[0;34m.\u001b[0m\u001b[0mnamespace\u001b[0m\u001b[0;34m.\u001b[0m\u001b[0mupdate\u001b[0m\u001b[0;34m(\u001b[0m\u001b[0;34m**\u001b[0m\u001b[0mkwds\u001b[0m\u001b[0;34m)\u001b[0m\u001b[0;34m\u001b[0m\u001b[0;34m\u001b[0m\u001b[0m\n\u001b[1;32m    101\u001b[0m \u001b[0;34m\u001b[0m\u001b[0m\n\u001b[0;32m--> 102\u001b[0;31m         \u001b[0;32mreturn\u001b[0m \u001b[0mself\u001b[0m\u001b[0;34m.\u001b[0m\u001b[0mrun\u001b[0m\u001b[0;34m(\u001b[0m\u001b[0;34m)\u001b[0m\u001b[0;34m\u001b[0m\u001b[0;34m\u001b[0m\u001b[0m\n\u001b[0m\u001b[1;32m    103\u001b[0m \u001b[0;34m\u001b[0m\u001b[0m\n\u001b[1;32m    104\u001b[0m     \u001b[0;32mdef\u001b[0m \u001b[0mrun\u001b[0m\u001b[0;34m(\u001b[0m\u001b[0mself\u001b[0m\u001b[0;34m)\u001b[0m\u001b[0;34m:\u001b[0m\u001b[0;34m\u001b[0m\u001b[0;34m\u001b[0m\u001b[0m\n",
      "\u001b[0;32m~/.pyenv/versions/3.7.8/envs/py37/lib/python3.7/site-packages/brian2/codegen/runtime/cython_rt/cython_rt.py\u001b[0m in \u001b[0;36mrun\u001b[0;34m(self)\u001b[0m\n\u001b[1;32m    151\u001b[0m \u001b[0;34m\u001b[0m\u001b[0m\n\u001b[1;32m    152\u001b[0m     \u001b[0;32mdef\u001b[0m \u001b[0mrun\u001b[0m\u001b[0;34m(\u001b[0m\u001b[0mself\u001b[0m\u001b[0;34m)\u001b[0m\u001b[0;34m:\u001b[0m\u001b[0;34m\u001b[0m\u001b[0;34m\u001b[0m\u001b[0m\n\u001b[0;32m--> 153\u001b[0;31m         \u001b[0;32mreturn\u001b[0m \u001b[0mself\u001b[0m\u001b[0;34m.\u001b[0m\u001b[0mcompiled_code\u001b[0m\u001b[0;34m.\u001b[0m\u001b[0mmain\u001b[0m\u001b[0;34m(\u001b[0m\u001b[0mself\u001b[0m\u001b[0;34m.\u001b[0m\u001b[0mnamespace\u001b[0m\u001b[0;34m)\u001b[0m\u001b[0;34m\u001b[0m\u001b[0;34m\u001b[0m\u001b[0m\n\u001b[0m\u001b[1;32m    154\u001b[0m \u001b[0;34m\u001b[0m\u001b[0m\n\u001b[1;32m    155\u001b[0m     \u001b[0;31m# the following are copied from WeaveCodeObject\u001b[0m\u001b[0;34m\u001b[0m\u001b[0;34m\u001b[0m\u001b[0;34m\u001b[0m\u001b[0m\n",
      "\u001b[0;31mKeyboardInterrupt\u001b[0m: "
     ]
    }
   ],
   "source": [
    "tauE_s_full = [0.5, 1, 1.5, 2, 2.5] # ms\n",
    "wE_s_full = [300, 400, 500, 600, 700, 800] # nS\n",
    "tauI_s_full = [0.5, 1, 1.5, 2, 2.5] # ms\n",
    "wI_s_full = [400, 500, 600, 700, 800, 900] # nS\n",
    "\n",
    "\n",
    "gamma_factors = np.zeros((len(tauE_s_full), len(wE_s_full), len(tauI_s_full), len(wI_s_full)))\n",
    "\n",
    "delta = 1*ms\n",
    "rate_correction = True\n",
    "\n",
    "\n",
    "tauE_ = tauE_s_full[3]\n",
    "for we_, wE_ in enumerate(wE_s_full):\n",
    "    for ti_, tauI_ in enumerate(tauI_s_full):\n",
    "        for wi_, wI_ in enumerate(wI_s_full):\n",
    "            gamma_factors[3, we_, ti_, wi_] = run_simulation_NET(net, cx_log,\n",
    "                                                                          tauE_, 700, 3, 700, \n",
    "                                                                          G_MOTOR, P_MOTOR,\n",
    "                                                                          G_CPU1A, G_CPU1B, G_PONTINE, G_MOTOR, \n",
    "                                                                          S_TB1_CPU1A,                  \n",
    "                                                                          S_CPU4_M_PONTINE,\n",
    "                                                                          S_CPU4_M_CPU1A,\n",
    "                                                                          S_PONTINE_CPU1A, \n",
    "                                                                          S_TB1_CPU1B,\n",
    "                                                                          S_CPU4_M_CPU1B, \n",
    "                                                                          S_PONTINE_CPU1B, \n",
    "                                                                          S_CPU1A_MOTOR, \n",
    "                                                                          S_CPU1B_MOTOR,  \n",
    "                                                                          T_outbound*time_step*ms, \n",
    "                                                                          defaultclock.dt, delta, rate_correction)"
   ]
  },
  {
   "cell_type": "code",
   "execution_count": 29,
   "metadata": {},
   "outputs": [
    {
     "data": {
      "image/png": "[encoded data removed]",
      "text/plain": [
       "<Figure size 1080x360 with 1 Axes>"
      ]
     },
     "metadata": {
      "needs_background": "light"
     },
     "output_type": "display_data"
    }
   ],
   "source": [
    "plt.figure(figsize=(15,5))\n",
    "ranges = range(CPU4_memory_history.shape[1]//2)\n",
    "for r in ranges:\n",
    "    plt.plot(CPU4_memory_history[:T_outbound,r], alpha=0.6, label=r)#, label=names[idx])\n",
    "plt.legend(bbox_to_anchor=(1.08, 1))\n",
    "#plt.xlim([1400,1500])\n",
    "plt.title('CPU4 outbound acucaccumulationmulation L')\n",
    "plt.ylabel('impulses/s')\n",
    "plt.xlabel('Simulation steps')\n",
    "plt.show()\n",
    "\n"
   ]
  },
  {
   "cell_type": "code",
   "execution_count": null,
   "metadata": {},
   "outputs": [],
   "source": []
  },
  {
   "cell_type": "code",
   "execution_count": null,
   "metadata": {},
   "outputs": [],
   "source": []
  },
  {
   "cell_type": "code",
   "execution_count": 30,
   "metadata": {},
   "outputs": [
    {
     "data": {
      "text/plain": [
       "<AxesSubplot:xlabel='time (ms)', ylabel='neuron index'>"
      ]
     },
     "execution_count": 30,
     "metadata": {},
     "output_type": "execute_result"
    },
    {
     "data": {
      "image/png": "[encoded data removed]",
      "text/plain": [
       "<Figure size 1080x360 with 1 Axes>"
      ]
     },
     "metadata": {
      "needs_background": "light"
     },
     "output_type": "display_data"
    },
    {
     "data": {
      "image/png": "[encoded data removed]",
      "text/plain": [
       "<Figure size 1080x360 with 1 Axes>"
      ]
     },
     "metadata": {
      "needs_background": "light"
     },
     "output_type": "display_data"
    }
   ],
   "source": [
    "plt.figure(figsize=(15,5))\n",
    "brian_plot(SPM_MOTOR)\n",
    "plt.figure(figsize=(15,5))\n",
    "brian_plot(SPM_MOTOR_TARGET)"
   ]
  },
  {
   "cell_type": "code",
   "execution_count": null,
   "metadata": {},
   "outputs": [],
   "source": []
  }
 ],
 "metadata": {
  "kernelspec": {
   "display_name": "Python 3",
   "language": "python",
   "name": "python3"
  },
  "language_info": {
   "codemirror_mode": {
    "name": "ipython",
    "version": 3
   },
   "file_extension": ".py",
   "mimetype": "text/x-python",
   "name": "python",
   "nbconvert_exporter": "python",
   "pygments_lexer": "ipython3",
   "version": "3.7.8"
  }
 },
 "nbformat": 4,
 "nbformat_minor": 4
}
