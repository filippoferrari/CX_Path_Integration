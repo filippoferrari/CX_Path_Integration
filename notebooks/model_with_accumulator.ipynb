{
 "cells": [
  {
   "cell_type": "code",
   "execution_count": null,
   "metadata": {},
   "outputs": [],
   "source": [
    "%matplotlib inline\n",
    "%reload_ext autoreload\n",
    "%autoreload 2\n",
    "\n",
    "import sys\n",
    "import os"
   ]
  },
  {
   "cell_type": "code",
   "execution_count": null,
   "metadata": {},
   "outputs": [],
   "source": [
    "from brian2 import *\n",
    "from brian2tools import *\n",
    "\n",
    "import matplotlib.pyplot as plt\n",
    "\n",
    "import cx_rate\n",
    "import trials\n",
    "import plotter\n",
    "\n",
    "\n",
    "from cx_spiking.constants import *\n",
    "\n",
    "import cx_spiking.plotting\n",
    "import cx_spiking.inputs\n",
    "import cx_spiking.network_creation as nc\n",
    "\n",
    "import cx_spiking.optimisation.metric as metric\n",
    "import cx_spiking.optimisation.ng_optimiser as ng_optimiser"
   ]
  },
  {
   "cell_type": "code",
   "execution_count": 3,
   "metadata": {},
   "outputs": [
    {
     "name": "stdout",
     "output_type": "stream",
     "text": [
      "Load route from /Users/ff/dev/MSc/CX_Path_Integration/notebooks/data/route.npz\n",
      "/Users/ff/dev/MSc/CX_Path_Integration/notebooks/data/route.npz exists - not overwriting it\n"
     ]
    }
   ],
   "source": [
    "######################################\n",
    "### INPUTS\n",
    "######################################\n",
    "route_file = os.path.join(os.environ.get('MSC_PROJECT'), 'notebooks/data/route.npz')\n",
    "T_outbound = 1500\n",
    "T_inbound = 1500\n",
    "T = T_outbound+T_inbound\n",
    "\n",
    "h, v, = cx_spiking.inputs.generate_route(T_outbound=1500, vary_speed=True, route_file=route_file, load_route=True)\n",
    "\n",
    "cx_spiking.inputs.save_route(route_file, h, v, save_route=True)\n",
    "\n",
    "# Convert headings\n",
    "headings = cx_spiking.inputs.compute_headings(h, N=N_TL2//2, vmin=5, vmax=100)\n",
    "headings = np.tile(headings, 2)\n",
    "headings = np.concatenate((headings, np.zeros((T_inbound, headings.shape[1]))), axis=0)\n",
    "\n",
    "# Convert velocity into optical flow\n",
    "flow = cx_spiking.inputs.compute_flow(h, v, baseline=50, vmin=0, vmax=50)\n",
    "flow = np.concatenate((flow, np.zeros((T_inbound, flow.shape[1]))), axis=0)\n",
    "\n",
    "\n",
    "######################################\n",
    "### RATE BASED CX\n",
    "######################################\n",
    "noise = 0.1\n",
    "cx = cx_rate.CXRatePontin(noise=noise)\n",
    "\n",
    "h, v, cx_log, cpu4_snapshot = trials.run_trial(logging=True,\n",
    "                                               T_outbound=T_outbound,\n",
    "                                               T_inbound=T_inbound,\n",
    "                                               noise=noise,\n",
    "                                               cx=cx,\n",
    "                                               route=(h[:T_outbound], v[:T_outbound]))"
   ]
  },
  {
   "cell_type": "code",
   "execution_count": 21,
   "metadata": {},
   "outputs": [],
   "source": [
    "######################################\n",
    "### SPIKE BASED CX\n",
    "######################################\n",
    "start_scope()\n",
    "\n",
    "time_step = 20 # ms"
   ]
  },
  {
   "cell_type": "code",
   "execution_count": 22,
   "metadata": {},
   "outputs": [],
   "source": [
    "h_stimulus = TimedArray(headings*Hz, dt=1.*time_step*ms)\n",
    "P_HEADING = PoissonGroup(N_TL2, rates='h_stimulus(t,i)')\n",
    "\n",
    "f_stimulus = TimedArray(flow*Hz, dt=1.*time_step*ms)\n",
    "P_FLOW = PoissonGroup(N_TN2, rates='f_stimulus(t,i)')"
   ]
  },
  {
   "cell_type": "code",
   "execution_count": 22,
   "metadata": {},
   "outputs": [],
   "source": [
    "# Neuron groups already optimised\n",
    "G_TL2 = nc.generate_neuron_groups(N_TL2, eqs, threshold_eqs, reset_eqs, TL2_neuron_params, name='TL2')\n",
    "G_CL1 = nc.generate_neuron_groups(N_CL1, eqs, threshold_eqs, reset_eqs, CL1_neuron_params, name='CL1')\n",
    "G_TB1 = nc.generate_neuron_groups(N_TB1, eqs, threshold_eqs, reset_eqs, TB1_neuron_params, name='TB1')\n",
    "G_TN2 = nc.generate_neuron_groups(N_TN2, eqs, threshold_eqs, reset_eqs, TN2_neuron_params, name='TN2')\n",
    "\n",
    "G_CPU4 = nc.generate_neuron_groups(N_CPU4, eqs, threshold_eqs, reset_eqs, neuron_params, name='CPU4')\n",
    "G_CPU1A = nc.generate_neuron_groups(N_CPU1A, eqs, threshold_eqs, reset_eqs, neuron_params, name='CPU1A')\n",
    "G_CPU1B = nc.generate_neuron_groups(N_CPU1B, eqs, threshold_eqs, reset_eqs, neuron_params, name='CPU1B')\n",
    "G_PONTINE = nc.generate_neuron_groups(N_PONTINE, eqs, threshold_eqs, reset_eqs, neuron_params, name='PONTINE')\n",
    "G_MOTOR = nc.generate_neuron_groups(N_MOTOR, eqs, threshold_eqs, reset_eqs, neuron_params, name='MOTOR')"
   ]
  },
  {
   "cell_type": "code",
   "execution_count": null,
   "metadata": {},
   "outputs": [],
   "source": [
    "SPM_HEADING = SpikeMonitor(P_HEADING)\n",
    "SPM_FLOW = SpikeMonitor(P_FLOW)\n",
    "\n",
    "SPM_TL2 = SpikeMonitor(G_TL2)\n",
    "SPM_CL1 = SpikeMonitor(G_CL1)\n",
    "SPM_TB1 = SpikeMonitor(G_TB1)\n",
    "SPM_TN2 = SpikeMonitor(G_TN2)\n",
    "SPM_CPU4 = SpikeMonitor(G_CPU4)\n",
    "SPM_CPU1A = SpikeMonitor(G_CPU1A)\n",
    "SPM_CPU1B = SpikeMonitor(G_CPU1B)\n",
    "SPM_PONTINE = SpikeMonitor(G_PONTINE)\n",
    "SPM_MOTOR = SpikeMonitor(G_MOTOR)"
   ]
  },
  {
   "cell_type": "code",
   "execution_count": 23,
   "metadata": {},
   "outputs": [],
   "source": [
    "S_P_HEADING_TL2 = nc.connect_synapses(P_HEADING, G_TL2, W_HEADING_TL2, model=synapses_model, params=H_TL2_synapses_params, on_pre=synapses_eqs_ex)\n",
    "S_TL2_CL1 = nc.connect_synapses(G_TL2, G_CL1, W_TL2_CL1, model=synapses_model, params=TL2_CL1_synapses_params, on_pre=synapses_eqs_ex)\n",
    "S_CL1_TB1 = nc.connect_synapses(G_CL1, G_TB1, W_CL1_TB1, model=synapses_model, params=CL1_TB1_synapses_params, on_pre=synapses_eqs_ex)\n",
    "S_TB1_TB1 = nc.connect_synapses(G_TB1, G_TB1, W_TB1_TB1, model=synapses_model, params=TB1_TB1_synapses_params, on_pre=synapses_eqs_in)\n",
    "S_P_FLOW_TN2 = nc.connect_synapses(P_FLOW, G_TN2, W_FLOW_TN2, model=synapses_model, params=F_TN2_synapses_params, on_pre=synapses_eqs_ex)\n",
    "S_TB1_CPU4 = nc.connect_synapses(G_TB1, G_CPU4, W_TB1_CPU4, model=synapses_model, params=synapses_params, on_pre=synapses_eqs_in)\n",
    "S_TN2_CPU4 = nc.connect_synapses(G_TN2, G_CPU4, W_TN2_CPU4, model=synapses_model, params=synapses_params, on_pre=synapses_eqs_ex)\n",
    "S_TB1_CPU1A = nc.connect_synapses(G_TB1, G_CPU1A, W_TB1_CPU1A, model=synapses_model, params=synapses_params, on_pre=synapses_eqs_in)\n",
    "S_CPU4_PONTINE = nc.connect_synapses(G_CPU4, G_PONTINE, W_CPU4_PONTINE, model=synapses_model, params=synapses_params,  on_pre=synapses_eqs_ex)\n",
    "S_CPU4_CPU1A = nc.connect_synapses(G_CPU4, G_CPU1A, W_CPU4_CPU1A, model=synapses_model, params=synapses_params,  on_pre=synapses_eqs_ex)\n",
    "S_PONTINE_CPU1A = nc.connect_synapses(G_PONTINE, G_CPU1A, W_PONTINE_CPU1A, model=synapses_model, params=synapses_params,  on_pre=synapses_eqs_in)\n",
    "S_TB1_CPU1B = nc.connect_synapses(G_TB1, G_CPU1B, W_TB1_CPU1B, model=synapses_model, params=synapses_params,  on_pre=synapses_eqs_in)\n",
    "S_CPU4_CPU1B = nc.connect_synapses(G_CPU4, G_CPU1B, W_CPU4_CPU1B, model=synapses_model, params=synapses_params,  on_pre=synapses_eqs_ex)\n",
    "S_PONTINE_CPU1B = nc.connect_synapses(G_PONTINE, G_CPU1B, W_PONTINE_CPU1B, model=synapses_model, params=synapses_params,  on_pre=synapses_eqs_in)\n",
    "S_CPU1A_MOTOR = nc.connect_synapses(G_CPU1A, G_MOTOR, W_CPU1A_MOTOR, model=synapses_model, params=synapses_params,  on_pre=synapses_eqs_ex)\n",
    "S_CPU1B_MOTOR = nc.connect_synapses(G_CPU1B, G_MOTOR, W_CPU1B_MOTOR, model=synapses_model, params=synapses_params,  on_pre=synapses_eqs_ex)"
   ]
  },
  {
   "cell_type": "code",
   "execution_count": 25,
   "metadata": {},
   "outputs": [],
   "source": [
    "global CPU4_memory, CPU4_memory_history\n",
    "CPU4_memory_history = np.zeros((T, N_CPU4))\n",
    "CPU4_memory = np.zeros(N_CPU4)\n",
    "\n",
    "def extract_spike_counts(SPM, t, time_step):\n",
    "    spike_trains = SPM.spike_trains()\n",
    "    neurons = np.zeros(len(SPM.spike_trains()), dtype=int)\n",
    "    for idx in range(len(spike_trains)):\n",
    "        spike_train = spike_trains[idx]\n",
    "        neurons[idx] = len(spike_train[(spike_train > t-time_step*ms) & (spike_train < t)])\n",
    "    return neurons\n",
    "\n",
    "@network_operation(dt=time_step*ms)\n",
    "def CPU4_accumulator(t):\n",
    "    global CPU4_memory, CPU4_memory_history\n",
    "    \n",
    "    timestep = int((t/ms + 0.5) / time_step)\n",
    "    \n",
    "    if t < time_step*ms:\n",
    "        return\n",
    "    spike_trains = SPM_CPU4.spike_trains()\n",
    "    neurons = extract_spike_counts(SPM_CPU4, t, time_step)    \n",
    "        \n",
    "    mem_update = neurons \n",
    "    CPU4_memory_history[timestep,:] += mem_update\n",
    "    CPU4_memory += mem_update"
   ]
  },
  {
   "cell_type": "code",
   "execution_count": 26,
   "metadata": {},
   "outputs": [
    {
     "name": "stdout",
     "output_type": "stream",
     "text": [
      "Starting simulation at t=0. s for a duration of 30. s\n",
      "1.1768 s (3%) simulated in 10s, estimated 4m 5s remaining.\n",
      "3.5284 s (11%) simulated in 20s, estimated 2m 30s remaining.\n",
      "6.2588 s (20%) simulated in 30s, estimated 1m 54s remaining.\n",
      "8.9897 s (29%) simulated in 40s, estimated 1m 33s remaining.\n",
      "11.3851 s (37%) simulated in 50s, estimated 1m 22s remaining.\n",
      "13.7899 s (45%) simulated in 1m 0s, estimated 1m 11s remaining.\n",
      "15.6622 s (52%) simulated in 1m 10s, estimated 1m 4s remaining.\n",
      "17.6847 s (58%) simulated in 1m 20s, estimated 56s remaining.\n",
      "20.0608 s (66%) simulated in 1m 30s, estimated 45s remaining.\n",
      "22.5301 s (75%) simulated in 1m 40s, estimated 33s remaining.\n",
      "24.9998 s (83%) simulated in 1m 50s, estimated 22s remaining.\n",
      "26.9148 s (89%) simulated in 2m 0s, estimated 14s remaining.\n",
      "28.3563 s (94%) simulated in 2m 10s, estimated 8s remaining.\n",
      "30. s (100%) simulated in 2m 16s\n",
      "CPU times: user 2min 7s, sys: 1.42 s, total: 2min 8s\n",
      "Wall time: 2min 36s\n"
     ]
    }
   ],
   "source": [
    "%%time\n",
    "run((T_outbound)*time_step*ms, report='text')"
   ]
  },
  {
   "cell_type": "code",
   "execution_count": 1,
   "metadata": {},
   "outputs": [],
   "source": [
    "def normalise_CPU4_accumulator(CPU4_memory, vmin=0.15, vmax=0.6):\n",
    "    L_CPU4 = CPU4_memory[:N_CPU4//2]\n",
    "    R_CPU4 = CPU4_memory[-N_CPU4//2:]\n",
    "    L_n = cx_spiking.inputs.normalise_range(L_CPU4, vmin=vmin, vmax=vmax)\n",
    "    R_n = cx_spiking.inputs.normalise_range(R_CPU4, vmin=vmin, vmax=vmax)\n",
    "    return np.concatenate((L_n, R_n))"
   ]
  }
 ],
 "metadata": {
  "kernelspec": {
   "display_name": "Python 3",
   "language": "python",
   "name": "python3"
  },
  "language_info": {
   "codemirror_mode": {
    "name": "ipython",
    "version": 3
   },
   "file_extension": ".py",
   "mimetype": "text/x-python",
   "name": "python",
   "nbconvert_exporter": "python",
   "pygments_lexer": "ipython3",
   "version": "3.8.2"
  }
 },
 "nbformat": 4,
 "nbformat_minor": 4
}
