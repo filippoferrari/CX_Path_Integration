{
 "cells": [
  {
   "cell_type": "code",
   "execution_count": 1,
   "metadata": {},
   "outputs": [],
   "source": [
    "%matplotlib inline\n",
    "%reload_ext autoreload\n",
    "%autoreload 2\n",
    "\n",
    "import sys\n",
    "import os"
   ]
  },
  {
   "cell_type": "code",
   "execution_count": 2,
   "metadata": {},
   "outputs": [],
   "source": [
    "from brian2 import *\n",
    "from brian2tools import *\n",
    "\n",
    "import matplotlib.pyplot as plt\n",
    "import scipy\n",
    "\n",
    "import cx_rate\n",
    "import trials\n",
    "import plotter\n",
    "\n",
    "from cx_spiking.constants import *\n",
    "\n",
    "import cx_spiking.plotting\n",
    "import cx_spiking.inputs\n",
    "import cx_spiking.network_creation as nc\n",
    "\n",
    "import cx_spiking.optimisation.metric as metric\n",
    "import cx_spiking.optimisation.ng_optimiser as ng_optimiser"
   ]
  },
  {
   "cell_type": "code",
   "execution_count": 3,
   "metadata": {},
   "outputs": [
    {
     "name": "stdout",
     "output_type": "stream",
     "text": [
      "Load route from /Users/ff/dev/MSc/CX_Path_Integration/notebooks/data/route.npz\n",
      "/Users/ff/dev/MSc/CX_Path_Integration/notebooks/data/route.npz exists - not overwriting it\n"
     ]
    }
   ],
   "source": [
    "######################################\n",
    "### INPUTS\n",
    "######################################\n",
    "route_file = os.path.join(os.environ.get('MSC_PROJECT'), 'notebooks/data/route.npz')\n",
    "T_outbound = 1500\n",
    "T_inbound = 1500\n",
    "T = T_outbound+T_inbound\n",
    "\n",
    "h, v, = cx_spiking.inputs.generate_route(T_outbound=1500, vary_speed=True, route_file=route_file, load_route=True)\n",
    "\n",
    "cx_spiking.inputs.save_route(route_file, h, v, save_route=True)\n",
    "\n",
    "# Convert headings\n",
    "headings = cx_spiking.inputs.compute_headings(h, N=N_TL2//2, vmin=5, vmax=100)\n",
    "headings = np.tile(headings, 2)\n",
    "headings = np.concatenate((headings, np.zeros((T_inbound, headings.shape[1]))), axis=0)\n",
    "\n",
    "# Convert velocity into optical flow\n",
    "flow = cx_spiking.inputs.compute_flow(h, v, baseline=50, vmin=0, vmax=50)\n",
    "flow = np.concatenate((flow, np.zeros((T_inbound, flow.shape[1]))), axis=0)\n",
    "\n",
    "\n",
    "######################################\n",
    "### RATE BASED CX\n",
    "######################################\n",
    "noise = 0.1\n",
    "cx = cx_rate.CXRatePontin(noise=noise)\n",
    "\n",
    "h, v, cx_log, cpu4_snapshot = trials.run_trial(logging=True,\n",
    "                                               T_outbound=T_outbound,\n",
    "                                               T_inbound=T_inbound,\n",
    "                                               noise=noise,\n",
    "                                               cx=cx,\n",
    "                                               route=(h[:T_outbound], v[:T_outbound]))"
   ]
  },
  {
   "cell_type": "code",
   "execution_count": 4,
   "metadata": {},
   "outputs": [],
   "source": [
    "######################################\n",
    "### SPIKE BASED CX\n",
    "######################################\n",
    "start_scope()\n",
    "\n",
    "time_step = 20 # ms"
   ]
  },
  {
   "cell_type": "code",
   "execution_count": 5,
   "metadata": {},
   "outputs": [],
   "source": [
    "h_stimulus = TimedArray(headings*Hz, dt=1.*time_step*ms, name='h_stimulus')\n",
    "P_HEADING = PoissonGroup(N_TL2, rates='h_stimulus(t,i)', name='P_HEADING')\n",
    "\n",
    "f_stimulus = TimedArray(flow*Hz, dt=1.*time_step*ms, name='h_stimulus')\n",
    "P_FLOW = PoissonGroup(N_TN2, rates='f_stimulus(t,i)', name='P_FLOW')"
   ]
  },
  {
   "cell_type": "code",
   "execution_count": 6,
   "metadata": {},
   "outputs": [],
   "source": [
    "# Neuron groups already optimised\n",
    "G_TL2 = nc.generate_neuron_groups(N_TL2, eqs, threshold_eqs, reset_eqs, TL2_neuron_params, name='TL2')\n",
    "G_CL1 = nc.generate_neuron_groups(N_CL1, eqs, threshold_eqs, reset_eqs, CL1_neuron_params, name='CL1')\n",
    "G_TB1 = nc.generate_neuron_groups(N_TB1, eqs, threshold_eqs, reset_eqs, TB1_neuron_params, name='TB1')\n",
    "G_TN2 = nc.generate_neuron_groups(N_TN2, eqs, threshold_eqs, reset_eqs, TN2_neuron_params, name='TN2')\n",
    "\n",
    "G_CPU4 = nc.generate_neuron_groups(N_CPU4, eqs, threshold_eqs, reset_eqs, neuron_params, name='CPU4')\n",
    "G_CPU1A = nc.generate_neuron_groups(N_CPU1A, eqs, threshold_eqs, reset_eqs, neuron_params, name='CPU1A')\n",
    "G_CPU1B = nc.generate_neuron_groups(N_CPU1B, eqs, threshold_eqs, reset_eqs, neuron_params, name='CPU1B')\n",
    "G_PONTINE = nc.generate_neuron_groups(N_PONTINE, eqs, threshold_eqs, reset_eqs, neuron_params, name='PONTINE')\n",
    "G_MOTOR = nc.generate_neuron_groups(N_MOTOR, eqs, threshold_eqs, reset_eqs, neuron_params, name='MOTOR')"
   ]
  },
  {
   "cell_type": "code",
   "execution_count": 7,
   "metadata": {},
   "outputs": [],
   "source": [
    "SPM_HEADING = SpikeMonitor(P_HEADING, name='SPM_HEADING')\n",
    "SPM_FLOW = SpikeMonitor(P_FLOW, name='SPM_FLOW')\n",
    "\n",
    "SPM_TL2 = SpikeMonitor(G_TL2, name='SPM_TL2')\n",
    "SPM_CL1 = SpikeMonitor(G_CL1, name='SPM_CL1')\n",
    "SPM_TB1 = SpikeMonitor(G_TB1, name='SPM_TB1')\n",
    "SPM_TN2 = SpikeMonitor(G_TN2, name='SPM_TN2')\n",
    "SPM_CPU4 = SpikeMonitor(G_CPU4, name='SPM_CPU4')\n",
    "SPM_CPU1A = SpikeMonitor(G_CPU1A, name='SPM_CPU1A')\n",
    "SPM_CPU1B = SpikeMonitor(G_CPU1B, name='SPM_CPU1B')\n",
    "SPM_PONTINE = SpikeMonitor(G_PONTINE, name='SPM_PONTINE')\n",
    "SPM_MOTOR = SpikeMonitor(G_MOTOR, name='SPM_MOTOR')"
   ]
  },
  {
   "cell_type": "code",
   "execution_count": 8,
   "metadata": {},
   "outputs": [],
   "source": [
    "S_P_HEADING_TL2 = nc.connect_synapses(P_HEADING, G_TL2, W_HEADING_TL2, model=synapses_model, params=H_TL2_synapses_params, on_pre=synapses_eqs_ex, name='S_P_HEADING_TL2')\n",
    "S_TL2_CL1 = nc.connect_synapses(G_TL2, G_CL1, W_TL2_CL1, model=synapses_model, params=TL2_CL1_synapses_params, on_pre=synapses_eqs_ex, name='S_TL2_CL1')\n",
    "S_CL1_TB1 = nc.connect_synapses(G_CL1, G_TB1, W_CL1_TB1, model=synapses_model, params=CL1_TB1_synapses_params, on_pre=synapses_eqs_ex, name='S_CL1_TB1')\n",
    "S_TB1_TB1 = nc.connect_synapses(G_TB1, G_TB1, W_TB1_TB1, model=synapses_model, params=TB1_TB1_synapses_params, on_pre=synapses_eqs_in, name='S_TB1_TB1')\n",
    "S_P_FLOW_TN2 = nc.connect_synapses(P_FLOW, G_TN2, W_FLOW_TN2, model=synapses_model, params=F_TN2_synapses_params, on_pre=synapses_eqs_ex, name='S_P_FLOW_TN2')\n",
    "S_TB1_CPU4 = nc.connect_synapses(G_TB1, G_CPU4, W_TB1_CPU4, model=synapses_model, params=synapses_params, on_pre=synapses_eqs_in, name='S_TB1_CPU4')\n",
    "S_TN2_CPU4 = nc.connect_synapses(G_TN2, G_CPU4, W_TN2_CPU4, model=synapses_model, params=synapses_params, on_pre=synapses_eqs_ex, name='S_TN2_CPU4')\n",
    "S_TB1_CPU1A = nc.connect_synapses(G_TB1, G_CPU1A, W_TB1_CPU1A, model=synapses_model, params=synapses_params, on_pre=synapses_eqs_in, name='S_TB1_CPU1A')\n",
    "S_CPU4_PONTINE = nc.connect_synapses(G_CPU4, G_PONTINE, W_CPU4_PONTINE, model=synapses_model, params=synapses_params,  on_pre=synapses_eqs_ex, name='S_CPU4_PONTINE')\n",
    "S_CPU4_CPU1A = nc.connect_synapses(G_CPU4, G_CPU1A, W_CPU4_CPU1A, model=synapses_model, params=synapses_params,  on_pre=synapses_eqs_ex, name='S_CPU4_CPU1A')\n",
    "S_PONTINE_CPU1A = nc.connect_synapses(G_PONTINE, G_CPU1A, W_PONTINE_CPU1A, model=synapses_model, params=synapses_params,  on_pre=synapses_eqs_in, name='S_PONTINE_CPU1A')\n",
    "S_TB1_CPU1B = nc.connect_synapses(G_TB1, G_CPU1B, W_TB1_CPU1B, model=synapses_model, params=synapses_params,  on_pre=synapses_eqs_in, name='S_TB1_CPU1B')\n",
    "S_CPU4_CPU1B = nc.connect_synapses(G_CPU4, G_CPU1B, W_CPU4_CPU1B, model=synapses_model, params=synapses_params,  on_pre=synapses_eqs_ex, name='S_CPU4_CPU1B')\n",
    "S_PONTINE_CPU1B = nc.connect_synapses(G_PONTINE, G_CPU1B, W_PONTINE_CPU1B, model=synapses_model, params=synapses_params,  on_pre=synapses_eqs_in, name='S_PONTINE_CPU1B')\n",
    "S_CPU1A_MOTOR = nc.connect_synapses(G_CPU1A, G_MOTOR, W_CPU1A_MOTOR, model=synapses_model, params=synapses_params,  on_pre=synapses_eqs_ex, name='S_CPU1A_MOTOR')\n",
    "S_CPU1B_MOTOR = nc.connect_synapses(G_CPU1B, G_MOTOR, W_CPU1B_MOTOR, model=synapses_model, params=synapses_params,  on_pre=synapses_eqs_ex, name='S_CPU1B_MOTOR')"
   ]
  },
  {
   "cell_type": "code",
   "execution_count": 9,
   "metadata": {},
   "outputs": [],
   "source": [
    "global CPU4_memory, CPU4_memory_history\n",
    "CPU4_memory_history = np.zeros((T, N_CPU4))\n",
    "CPU4_memory = np.zeros(N_CPU4)\n",
    "\n",
    "def extract_spike_counts(SPM, t, time_step):\n",
    "    spike_trains = SPM.spike_trains()\n",
    "    neurons = np.zeros(len(SPM.spike_trains()), dtype=int)\n",
    "    for idx in range(len(spike_trains)):\n",
    "        spike_train = spike_trains[idx]\n",
    "        neurons[idx] = len(spike_train[(spike_train > t-time_step*ms) & (spike_train < t)])\n",
    "    return neurons\n",
    "\n",
    "@network_operation(dt=time_step*ms, order=0, name='CPU4_accumulator')\n",
    "def CPU4_accumulator(t):\n",
    "    global CPU4_memory, CPU4_memory_history\n",
    "    \n",
    "    timestep = int((t/ms + 0.5) / time_step)\n",
    "    \n",
    "    if t < time_step*ms:\n",
    "        return\n",
    "    spike_trains = SPM_CPU4.spike_trains()\n",
    "    neurons = extract_spike_counts(SPM_CPU4, t, time_step)    \n",
    "        \n",
    "    mem_update = neurons \n",
    "    CPU4_memory_history[timestep,:] += mem_update\n",
    "    CPU4_memory += mem_update\n",
    "    \n",
    "    \n",
    "######################################\n",
    "### NETWORK OPERATIONS\n",
    "######################################\n",
    "global ref_angles, heading_angles, velocities \n",
    "\n",
    "ref_angles = np.linspace(-np.pi+np.pi/8, np.pi+np.pi/8, N_TB1, endpoint=False)\n",
    "max_velocity = 12 \n",
    "\n",
    "heading_angles = np.zeros(T)\n",
    "velocities = np.zeros((T, 2))\n",
    "\n",
    "def circular_weighted_mean(weights, angles):\n",
    "    x = y = 0.\n",
    "    for angle, weight in zip(angles, weights):\n",
    "        x += math.cos(math.radians(angle)) * weight\n",
    "        y += math.sin(math.radians(angle)) * weight\n",
    "    mean = math.degrees(math.atan2(y, x))\n",
    "    return mean\n",
    "\n",
    "\n",
    "def make_angle(theta):\n",
    "    return (theta + np.pi) % (2.0 * np.pi) - np.pi\n",
    "\n",
    "\n",
    "@network_operation(dt=time_step*ms, order=1, name='extract_heading')\n",
    "def extract_heading(t):\n",
    "    global ref_angles, heading_angles\n",
    "\n",
    "    timestep = int((t/ms + 0.5) / time_step)\n",
    "    \n",
    "    if t < time_step*ms:\n",
    "        neurons = [0,0,0,1,1,0,0,0]\n",
    "        tmp = [angle for i, angle in enumerate(ref_angles) for neuron in range(neurons[i])]\n",
    "        heading_angles[timestep] = make_angle(scipy.stats.circmean(tmp, low=-np.pi, high=np.pi))\n",
    "        return\n",
    "    neurons = extract_spike_counts(SPM_TB1, t, time_step)    \n",
    "    \n",
    "    if np.sum(neurons) > 0:\n",
    "        # trick to get the correct weighted average of where the heading is\n",
    "        # create a list with all the angles between [-pi,pi] repeated by their count\n",
    "        # so [0,2,0,0,1,0,0,1] will be [-1.963, -1.963, 0.392, 2.748] and then compute\n",
    "        # circular mean between [-pi, pi]\n",
    "        tmp = [angle for i, angle in enumerate(ref_angles) for neuron in range(neurons[i])]\n",
    "        # -pi/8 because we center the neurons at the center of their pi/4 receptive fields\n",
    "        heading_angles[timestep] = make_angle(scipy.stats.circmean(tmp, low=-np.pi, high=np.pi) - np.pi/8)\n",
    "    else:\n",
    "        heading_angles[timestep] = heading_angles[timestep-1]\n",
    "\n",
    "\n",
    "@network_operation(dt=time_step*ms, order=2, name='extract_velocity')\n",
    "def extract_velocity(t):\n",
    "    global velocities, max_velocity\n",
    "    \n",
    "    timestep = int((t/ms + 0.5) / time_step)\n",
    "    if t < time_step*ms:\n",
    "        velocities[timestep] = [0,0]\n",
    "        return\n",
    "    neurons_responses = extract_spike_counts(SPM_TN2, t, time_step)\n",
    "    neurons_responses = np.clip(neurons_responses, 0, max_velocity)\n",
    "    velocities[timestep] = neurons_responses / max_velocity"
   ]
  },
  {
   "cell_type": "code",
   "execution_count": 10,
   "metadata": {},
   "outputs": [
    {
     "name": "stdout",
     "output_type": "stream",
     "text": [
      "Starting simulation at t=0. s for a duration of 30. s\n",
      "1.0371 s (3%) simulated in 10s, estimated 4m 39s remaining.\n",
      "1.9949 s (6%) simulated in 20s, estimated 4m 41s remaining.\n",
      "2.9698 s (9%) simulated in 30s, estimated 4m 33s remaining.\n",
      "4.0084 s (13%) simulated in 40s, estimated 4m 19s remaining.\n",
      "5.0108 s (16%) simulated in 50s, estimated 4m 9s remaining.\n",
      "6.2061 s (20%) simulated in 1m 0s, estimated 3m 50s remaining.\n",
      "7.3919 s (24%) simulated in 1m 10s, estimated 3m 34s remaining.\n",
      "8.5986 s (28%) simulated in 1m 20s, estimated 3m 19s remaining.\n",
      "9.716 s (32%) simulated in 1m 30s, estimated 3m 8s remaining.\n",
      "10.9209 s (36%) simulated in 1m 40s, estimated 2m 55s remaining.\n",
      "12.1069 s (40%) simulated in 1m 50s, estimated 2m 43s remaining.\n",
      "13.302 s (44%) simulated in 2m 0s, estimated 2m 31s remaining.\n",
      "14.313 s (47%) simulated in 2m 10s, estimated 2m 22s remaining.\n",
      "15.4465 s (51%) simulated in 2m 20s, estimated 2m 12s remaining.\n",
      "16.5826 s (55%) simulated in 2m 30s, estimated 2m 1s remaining.\n",
      "17.7178 s (59%) simulated in 2m 40s, estimated 1m 51s remaining.\n",
      "18.8005 s (62%) simulated in 2m 50s, estimated 1m 41s remaining.\n",
      "19.7627 s (65%) simulated in 3m 0s, estimated 1m 33s remaining.\n",
      "20.7743 s (69%) simulated in 3m 10s, estimated 1m 24s remaining.\n",
      "21.4914 s (71%) simulated in 3m 20s, estimated 1m 19s remaining.\n",
      "22.3577 s (74%) simulated in 3m 30s, estimated 1m 12s remaining.\n",
      "23.3384 s (77%) simulated in 3m 40s, estimated 1m 3s remaining.\n",
      "24.1356 s (80%) simulated in 3m 50s, estimated 56s remaining.\n",
      "25.2417 s (84%) simulated in 4m 0s, estimated 45s remaining.\n",
      "26.3713 s (87%) simulated in 4m 10s, estimated 34s remaining.\n",
      "27.5401 s (91%) simulated in 4m 20s, estimated 23s remaining.\n",
      "28.7246 s (95%) simulated in 4m 30s, estimated 12s remaining.\n",
      "29.9105 s (99%) simulated in 4m 40s, estimated 1s remaining.\n",
      "30. s (100%) simulated in 4m 40s\n",
      "CPU times: user 4min 46s, sys: 3.06 s, total: 4min 49s\n",
      "Wall time: 5min 51s\n"
     ]
    }
   ],
   "source": [
    "%%time\n",
    "net = Network(collect())\n",
    "net.run((T_outbound)*time_step*ms, report='text')"
   ]
  },
  {
   "cell_type": "code",
   "execution_count": 11,
   "metadata": {},
   "outputs": [],
   "source": [
    "def normalise_CPU4_accumulator(CPU4_memory, vmin=0.15, vmax=0.6):\n",
    "    L_CPU4 = CPU4_memory[:N_CPU4//2]\n",
    "    R_CPU4 = CPU4_memory[-N_CPU4//2:]\n",
    "    L_n = cx_spiking.inputs.normalise_range(L_CPU4, vmin=vmin, vmax=vmax)\n",
    "    R_n = cx_spiking.inputs.normalise_range(R_CPU4, vmin=vmin, vmax=vmax)\n",
    "    return np.concatenate((L_n, R_n))"
   ]
  },
  {
   "cell_type": "code",
   "execution_count": 12,
   "metadata": {},
   "outputs": [],
   "source": [
    "CPU4_memory_normalised = normalise_CPU4_accumulator(CPU4_memory, vmin=0.15, vmax=0.6)"
   ]
  },
  {
   "cell_type": "code",
   "execution_count": 20,
   "metadata": {},
   "outputs": [],
   "source": [
    "#new_heading = np.array([heading_angles[T_outbound-1]])\n",
    "#new_headings = cx_spiking.inputs.compute_headings(new_heading, N=N_TL2//2, vmin=5, vmax=100)\n",
    "#new_headings = np.tile(new_headings, 2) \n",
    "#headings[T_outbound,:] = new_headings\n",
    "#h_stimulus = TimedArray(headings*Hz, dt=1.*time_step*ms, name='h_stimulus')\n"
   ]
  },
  {
   "cell_type": "code",
   "execution_count": 21,
   "metadata": {},
   "outputs": [],
   "source": [
    "#net.run(2*time_step*ms)"
   ]
  },
  {
   "cell_type": "code",
   "execution_count": 13,
   "metadata": {},
   "outputs": [
    {
     "data": {
      "image/png": "[encoded data removed]",
      "text/plain": [
       "<Figure size 432x288 with 1 Axes>"
      ]
     },
     "metadata": {
      "needs_background": "light"
     },
     "output_type": "display_data"
    }
   ],
   "source": [
    "brian_plot(SPM_HEADING)\n",
    "plt.xlim([29980,30040])\n",
    "plt.show()"
   ]
  },
  {
   "cell_type": "code",
   "execution_count": null,
   "metadata": {},
   "outputs": [],
   "source": []
  },
  {
   "cell_type": "code",
   "execution_count": null,
   "metadata": {},
   "outputs": [],
   "source": []
  },
  {
   "cell_type": "code",
   "execution_count": 14,
   "metadata": {},
   "outputs": [],
   "source": [
    "for ts in range(20):\n",
    "    # prepare inputs\n",
    "    \n",
    "    #### motor response\n",
    "    #motor_responses = extract_spike_counts(SPM_MOTOR, ts*time_step, time_step)\n",
    "    rotation = 0\n",
    "\n",
    "    \n",
    "    #### heading\n",
    "    # previous heading\n",
    "    prev_heading = np.array([heading_angles[T_outbound+ts-1]])\n",
    "    # compute spikes based on old heading and rotation\n",
    "    new_heading = prev_heading + rotation\n",
    "    new_headings = cx_spiking.inputs.compute_headings(new_heading, N=N_TL2//2, vmin=5, vmax=100)\n",
    "    new_headings = np.tile(new_headings, 2) \n",
    "    # save new heading\n",
    "    headings[T_outbound+ts,:] = new_headings\n",
    "    h_stimulus = TimedArray(headings*Hz, dt=1.*time_step*ms, name='h_stimulus')\n",
    "\n",
    "\n",
    "    \n",
    "    \n",
    "    \n",
    "    \n",
    "    # run newtork for a single timestep\n",
    "    net.run(time_step*ms)\n",
    "    \n",
    "    "
   ]
  },
  {
   "cell_type": "code",
   "execution_count": 15,
   "metadata": {},
   "outputs": [
    {
     "data": {
      "image/png": "[encoded data removed]",
      "text/plain": [
       "<Figure size 432x288 with 1 Axes>"
      ]
     },
     "metadata": {
      "needs_background": "light"
     },
     "output_type": "display_data"
    }
   ],
   "source": [
    "brian_plot(SPM_HEADING)\n",
    "plt.xlim([29980,30000+20*25])\n",
    "plt.show()"
   ]
  },
  {
   "cell_type": "code",
   "execution_count": null,
   "metadata": {},
   "outputs": [],
   "source": []
  }
 ],
 "metadata": {
  "kernelspec": {
   "display_name": "Python 3",
   "language": "python",
   "name": "python3"
  },
  "language_info": {
   "codemirror_mode": {
    "name": "ipython",
    "version": 3
   },
   "file_extension": ".py",
   "mimetype": "text/x-python",
   "name": "python",
   "nbconvert_exporter": "python",
   "pygments_lexer": "ipython3",
   "version": "3.8.2"
  }
 },
 "nbformat": 4,
 "nbformat_minor": 4
}
