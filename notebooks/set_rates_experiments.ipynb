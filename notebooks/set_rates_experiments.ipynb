{
 "cells": [
  {
   "cell_type": "code",
   "execution_count": null,
   "metadata": {},
   "outputs": [],
   "source": [
    "%matplotlib inline\n",
    "%reload_ext autoreload\n",
    "%autoreload 2\n",
    "\n",
    "import sys\n",
    "import os\n",
    "\n",
    "from brian2 import *\n",
    "from brian2tools import *"
   ]
  },
  {
   "cell_type": "code",
   "execution_count": 27,
   "metadata": {},
   "outputs": [],
   "source": [
    "start_scope()\n",
    "\n",
    "time_step = 20 # ms\n",
    "sim_steps = 100\n",
    "N = 4\n",
    "starting_value = 50\n",
    "\n",
    "global stimulus_values, SPM_P_STIMULUS, stimulus\n",
    "\n",
    "stimulus_values = starting_value*np.ones((sim_steps,N))*Hz\n",
    "\n",
    "P_STIMULUS = PoissonGroup(N, rates=stimulus_values[0,:], name='P_STIMULUS')\n",
    "\n",
    "SPM_P_STIMULUS = SpikeMonitor(P_STIMULUS)"
   ]
  },
  {
   "cell_type": "code",
   "execution_count": 28,
   "metadata": {},
   "outputs": [],
   "source": [
    "def get_agent_timestep(t, sim_time_step):\n",
    "    return int((t/ms + 0.5) / sim_time_step)\n",
    "\n",
    "\n",
    "def extract_spike_counts(SPM, t, time_step):\n",
    "    '''\n",
    "    Count spikes for each neuron in the [t-time_step, t] interval\n",
    "    of the simulation\n",
    "    '''\n",
    "    spike_trains = SPM.spike_trains()\n",
    "    neurons = np.zeros(len(SPM.spike_trains()), dtype=int)\n",
    "    for idx in range(len(spike_trains)):\n",
    "        spike_train = spike_trains[idx]\n",
    "        neurons[idx] = len(spike_train[(spike_train > t-time_step*ms) & (spike_train < t)])\n",
    "    return neurons\n",
    "\n",
    "\n",
    "global memory_, memory_history\n",
    "memory_history = starting_value * np.ones((sim_steps,N))\n",
    "memory_ = starting_value * np.ones(N)\n",
    "\n",
    "\n",
    "@network_operation(dt=time_step*ms, when='start', order=0, name='accumulator')\n",
    "def accumulator(t):\n",
    "    global memory_, memory_history, stimulus_values, SPM_P_STIMULUS, stimulus\n",
    "    \n",
    "    timestep = get_agent_timestep(t, time_step)\n",
    "    \n",
    "    if t < time_step*ms:\n",
    "        return\n",
    "    spike_trains = SPM_P_STIMULUS.spike_trains()\n",
    "    neurons = extract_spike_counts(SPM_P_STIMULUS, t, time_step)    \n",
    "        \n",
    "    mem_update = neurons \n",
    "    memory_ = memory_history[timestep-1,:]\n",
    "    memory_ += mem_update * 0.05\n",
    "    memory_ -= 0.025 * (1./(mem_update+0.1))\n",
    "    memory_ = np.clip(memory_, 0, np.inf)\n",
    "    memory_history[timestep,:] = memory_\n",
    "\n",
    "    \n",
    "    stimulus_values[timestep,:] = 50*Hz+timestep*10*Hz#memory_*Hz\n"
   ]
  },
  {
   "cell_type": "code",
   "execution_count": 29,
   "metadata": {},
   "outputs": [
    {
     "name": "stdout",
     "output_type": "stream",
     "text": [
      "[50. 50. 50. 50.] Hz\n",
      "[60. 60. 60. 60.] Hz\n",
      "[70. 70. 70. 70.] Hz\n",
      "[80. 80. 80. 80.] Hz\n",
      "[90. 90. 90. 90.] Hz\n",
      "[100. 100. 100. 100.] Hz\n",
      "[110. 110. 110. 110.] Hz\n",
      "[120. 120. 120. 120.] Hz\n",
      "[130. 130. 130. 130.] Hz\n",
      "[140. 140. 140. 140.] Hz\n",
      "[150. 150. 150. 150.] Hz\n",
      "[160. 160. 160. 160.] Hz\n",
      "[170. 170. 170. 170.] Hz\n",
      "[180. 180. 180. 180.] Hz\n",
      "[190. 190. 190. 190.] Hz\n",
      "[200. 200. 200. 200.] Hz\n",
      "[210. 210. 210. 210.] Hz\n",
      "[220. 220. 220. 220.] Hz\n",
      "[230. 230. 230. 230.] Hz\n",
      "[240. 240. 240. 240.] Hz\n",
      "[250. 250. 250. 250.] Hz\n",
      "[260. 260. 260. 260.] Hz\n",
      "[270. 270. 270. 270.] Hz\n",
      "[280. 280. 280. 280.] Hz\n",
      "[290. 290. 290. 290.] Hz\n",
      "[300. 300. 300. 300.] Hz\n",
      "[310. 310. 310. 310.] Hz\n",
      "[0.32 0.32 0.32 0.32] kHz\n",
      "[0.33 0.33 0.33 0.33] kHz\n",
      "[0.34 0.34 0.34 0.34] kHz\n",
      "[0.35 0.35 0.35 0.35] kHz\n",
      "[0.36 0.36 0.36 0.36] kHz\n",
      "[0.37 0.37 0.37 0.37] kHz\n",
      "[0.38 0.38 0.38 0.38] kHz\n",
      "[0.39 0.39 0.39 0.39] kHz\n",
      "[0.4 0.4 0.4 0.4] kHz\n",
      "[0.41 0.41 0.41 0.41] kHz\n",
      "[0.42 0.42 0.42 0.42] kHz\n",
      "[0.43 0.43 0.43 0.43] kHz\n",
      "[0.44 0.44 0.44 0.44] kHz\n",
      "[0.45 0.45 0.45 0.45] kHz\n",
      "[0.46 0.46 0.46 0.46] kHz\n",
      "[0.47 0.47 0.47 0.47] kHz\n",
      "[0.48 0.48 0.48 0.48] kHz\n",
      "[0.49 0.49 0.49 0.49] kHz\n",
      "[0.5 0.5 0.5 0.5] kHz\n",
      "[0.51 0.51 0.51 0.51] kHz\n",
      "[0.52 0.52 0.52 0.52] kHz\n",
      "[0.53 0.53 0.53 0.53] kHz\n",
      "[0.54 0.54 0.54 0.54] kHz\n",
      "[0.55 0.55 0.55 0.55] kHz\n",
      "[0.56 0.56 0.56 0.56] kHz\n",
      "[0.57 0.57 0.57 0.57] kHz\n",
      "[0.58 0.58 0.58 0.58] kHz\n",
      "[0.59 0.59 0.59 0.59] kHz\n",
      "[0.6 0.6 0.6 0.6] kHz\n",
      "[0.61 0.61 0.61 0.61] kHz\n",
      "[0.62 0.62 0.62 0.62] kHz\n",
      "[0.63 0.63 0.63 0.63] kHz\n",
      "[0.64 0.64 0.64 0.64] kHz\n",
      "[0.65 0.65 0.65 0.65] kHz\n",
      "[0.66 0.66 0.66 0.66] kHz\n",
      "[0.67 0.67 0.67 0.67] kHz\n",
      "[0.68 0.68 0.68 0.68] kHz\n",
      "[0.69 0.69 0.69 0.69] kHz\n",
      "[0.7 0.7 0.7 0.7] kHz\n",
      "[0.71 0.71 0.71 0.71] kHz\n",
      "[0.72 0.72 0.72 0.72] kHz\n",
      "[0.73 0.73 0.73 0.73] kHz\n",
      "[0.74 0.74 0.74 0.74] kHz\n",
      "[0.75 0.75 0.75 0.75] kHz\n",
      "[0.76 0.76 0.76 0.76] kHz\n",
      "[0.77 0.77 0.77 0.77] kHz\n",
      "[0.78 0.78 0.78 0.78] kHz\n",
      "[0.79 0.79 0.79 0.79] kHz\n",
      "[0.8 0.8 0.8 0.8] kHz\n",
      "[0.81 0.81 0.81 0.81] kHz\n",
      "[0.82 0.82 0.82 0.82] kHz\n",
      "[0.83 0.83 0.83 0.83] kHz\n",
      "[0.84 0.84 0.84 0.84] kHz\n",
      "[0.85 0.85 0.85 0.85] kHz\n",
      "[0.86 0.86 0.86 0.86] kHz\n",
      "[0.87 0.87 0.87 0.87] kHz\n",
      "[0.88 0.88 0.88 0.88] kHz\n",
      "[0.89 0.89 0.89 0.89] kHz\n",
      "[0.9 0.9 0.9 0.9] kHz\n",
      "[0.91 0.91 0.91 0.91] kHz\n",
      "[0.92 0.92 0.92 0.92] kHz\n",
      "[0.93 0.93 0.93 0.93] kHz\n",
      "[0.94 0.94 0.94 0.94] kHz\n",
      "[0.95 0.95 0.95 0.95] kHz\n",
      "[0.96 0.96 0.96 0.96] kHz\n",
      "[0.97 0.97 0.97 0.97] kHz\n",
      "[0.98 0.98 0.98 0.98] kHz\n",
      "[0.99 0.99 0.99 0.99] kHz\n",
      "[1. 1. 1. 1.] kHz\n",
      "[1.01 1.01 1.01 1.01] kHz\n",
      "[1.02 1.02 1.02 1.02] kHz\n",
      "[1.03 1.03 1.03 1.03] kHz\n",
      "[1.04 1.04 1.04 1.04] kHz\n"
     ]
    }
   ],
   "source": [
    "\n",
    "net = Network(collect())\n",
    "for ts in range(sim_steps):\n",
    "    net.run(time_step *ms)\n",
    "    #stimulus = TimedArray(stimulus_values*Hz, dt=1.*time_step*ms, name='stimulus')\n",
    "    P_STIMULUS.rates = stimulus_values[ts,:]\n",
    "    #print(stimulus_values)\n",
    "    #print(spike_mon.i, spike_mon.t + runtime)\n",
    "    print(stimulus_values[ts,:])"
   ]
  },
  {
   "cell_type": "code",
   "execution_count": 30,
   "metadata": {},
   "outputs": [
    {
     "data": {
      "text/plain": [
       "<matplotlib.axes._subplots.AxesSubplot at 0x10f02b940>"
      ]
     },
     "execution_count": 30,
     "metadata": {},
     "output_type": "execute_result"
    },
    {
     "data": {
      "image/png": "[encoded data removed]",
      "text/plain": [
       "<Figure size 432x288 with 1 Axes>"
      ]
     },
     "metadata": {
      "needs_background": "light"
     },
     "output_type": "display_data"
    }
   ],
   "source": [
    "brian_plot(SPM_P_STIMULUS)"
   ]
  },
  {
   "cell_type": "code",
   "execution_count": 21,
   "metadata": {},
   "outputs": [
    {
     "data": {
      "text/plain": [
       "[<matplotlib.lines.Line2D at 0x10efe86a0>]"
      ]
     },
     "execution_count": 21,
     "metadata": {},
     "output_type": "execute_result"
    },
    {
     "data": {
      "image/png": "[encoded data removed]",
      "text/plain": [
       "<Figure size 432x288 with 1 Axes>"
      ]
     },
     "metadata": {
      "needs_background": "light"
     },
     "output_type": "display_data"
    }
   ],
   "source": [
    "plt.plot(memory_)"
   ]
  },
  {
   "cell_type": "code",
   "execution_count": 22,
   "metadata": {},
   "outputs": [
    {
     "data": {
      "text/plain": [
       "[<matplotlib.lines.Line2D at 0x10f017dc0>,\n",
       " <matplotlib.lines.Line2D at 0x10f017ee0>,\n",
       " <matplotlib.lines.Line2D at 0x10f017fa0>,\n",
       " <matplotlib.lines.Line2D at 0x10f01e0a0>]"
      ]
     },
     "execution_count": 22,
     "metadata": {},
     "output_type": "execute_result"
    },
    {
     "data": {
      "image/png": "[encoded data removed]",
      "text/plain": [
       "<Figure size 432x288 with 1 Axes>"
      ]
     },
     "metadata": {
      "needs_background": "light"
     },
     "output_type": "display_data"
    }
   ],
   "source": [
    "plt.plot(memory_history)"
   ]
  },
  {
   "cell_type": "code",
   "execution_count": 23,
   "metadata": {},
   "outputs": [
    {
     "data": {
      "text/plain": [
       "[<matplotlib.lines.Line2D at 0x10ef7b7c0>]"
      ]
     },
     "execution_count": 23,
     "metadata": {},
     "output_type": "execute_result"
    },
    {
     "data": {
      "image/png": "[encoded data removed]",
      "text/plain": [
       "<Figure size 432x288 with 1 Axes>"
      ]
     },
     "metadata": {
      "needs_background": "light"
     },
     "output_type": "display_data"
    }
   ],
   "source": [
    "plt.plot(stimulus_values)"
   ]
  },
  {
   "cell_type": "code",
   "execution_count": null,
   "metadata": {},
   "outputs": [],
   "source": []
  }
 ],
 "metadata": {
  "kernelspec": {
   "display_name": "Python 3",
   "language": "python",
   "name": "python3"
  },
  "language_info": {
   "codemirror_mode": {
    "name": "ipython",
    "version": 3
   },
   "file_extension": ".py",
   "mimetype": "text/x-python",
   "name": "python",
   "nbconvert_exporter": "python",
   "pygments_lexer": "ipython3",
   "version": "3.8.2"
  }
 },
 "nbformat": 4,
 "nbformat_minor": 4
}
